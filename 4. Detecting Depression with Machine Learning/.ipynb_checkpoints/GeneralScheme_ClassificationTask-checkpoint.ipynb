{
 "cells": [
  {
   "cell_type": "code",
   "execution_count": 1,
   "metadata": {},
   "outputs": [],
   "source": [
    "#IMPORT THE DATASET \n",
    "import pandas as pd\n",
    "data = pd.read_csv('labeled_data.txt')"
   ]
  },
  {
   "cell_type": "code",
   "execution_count": 2,
   "metadata": {},
   "outputs": [],
   "source": [
    "#SEPARATE X and y (explanatory variables and target variable)\n",
    "X = data.iloc[:,0:-1]\n",
    "y = data.iloc[:,-1] "
   ]
  },
  {
   "cell_type": "code",
   "execution_count": 3,
   "metadata": {},
   "outputs": [],
   "source": [
    "#DEFINE YOUR CLASSIFIER and THE PARAMETERS GRID\n",
    "from sklearn.linear_model import LogisticRegression\n",
    "import numpy as np\n",
    "\n",
    "classifier = LogisticRegression()\n",
    "parameters = {\"C\":[1e-4,1e-3,1e-2,1e-1,1,10]}"
   ]
  },
  {
   "cell_type": "code",
   "execution_count": 4,
   "metadata": {},
   "outputs": [],
   "source": [
    "#DEFINE YOUR GRIDSEARCH \n",
    "from sklearn.model_selection import GridSearchCV\n",
    "gs = GridSearchCV(classifier, parameters, cv=3, scoring = 'accuracy', verbose=10, n_jobs=-1, refit=True) "
   ]
  },
  {
   "cell_type": "code",
   "execution_count": 5,
   "metadata": {},
   "outputs": [
    {
     "name": "stdout",
     "output_type": "stream",
     "text": [
      "Fitting 3 folds for each of 6 candidates, totalling 18 fits\n"
     ]
    },
    {
     "name": "stderr",
     "output_type": "stream",
     "text": [
      "[Parallel(n_jobs=-1)]: Done   5 tasks      | elapsed:    5.9s\n",
      "[Parallel(n_jobs=-1)]: Done  10 tasks      | elapsed:    5.9s\n",
      "[Parallel(n_jobs=-1)]: Done  13 out of  18 | elapsed:    5.9s remaining:    2.2s\n",
      "[Parallel(n_jobs=-1)]: Done  15 out of  18 | elapsed:    5.9s remaining:    1.1s\n",
      "[Parallel(n_jobs=-1)]: Done  18 out of  18 | elapsed:    5.9s finished\n"
     ]
    }
   ],
   "source": [
    "#RUN FIT with all sets of parameters (evaluating by Cross Validation)\n",
    "gs = gs.fit(X, y)"
   ]
  },
  {
   "cell_type": "code",
   "execution_count": 6,
   "metadata": {},
   "outputs": [
    {
     "name": "stdout",
     "output_type": "stream",
     "text": [
      "***GRIDSEARCH RESULTS***\n",
      "Best score: 0.769531 using {'C': 1}\n",
      "0.666667 (0.003836) with: {'C': 0.0001}\n",
      "0.680990 (0.011683) with: {'C': 0.001}\n",
      "0.682292 (0.009456) with: {'C': 0.01}\n",
      "0.713542 (0.006021) with: {'C': 0.1}\n",
      "0.769531 (0.019225) with: {'C': 1}\n",
      "0.766927 (0.024281) with: {'C': 10}\n"
     ]
    }
   ],
   "source": [
    "#SUMMARIZE the results of your GRIDSEARCH\n",
    "print('***GRIDSEARCH RESULTS***')\n",
    "\n",
    "print(\"Best score: %f using %s\" % (gs.best_score_, gs.best_params_))\n",
    "means = gs.cv_results_['mean_test_score']\n",
    "stds = gs.cv_results_['std_test_score']\n",
    "params = gs.cv_results_['params']\n",
    "\n",
    "for mean, stdev, param in zip(means, stds, params):\n",
    "    print(\"%f (%f) with: %r\" % (mean, stdev, param))"
   ]
  },
  {
   "cell_type": "code",
   "execution_count": 7,
   "metadata": {},
   "outputs": [],
   "source": [
    "#SAVE YOUR BEST MODEL in the variable best_model\n",
    "best_model = gs.best_estimator_"
   ]
  },
  {
   "cell_type": "code",
   "execution_count": 8,
   "metadata": {},
   "outputs": [],
   "source": [
    "#UPLOAD THE UNLABELED DATA on which produce your predictions\n",
    "X_test = pd.read_csv('unlabeled_data.txt')"
   ]
  },
  {
   "cell_type": "code",
   "execution_count": 9,
   "metadata": {},
   "outputs": [],
   "source": [
    "#PRODUCE YOUR PREDICTIONS: This is your prediction on the unlabeled data\n",
    "y_pred = best_model.predict(X_test) "
   ]
  },
  {
   "cell_type": "code",
   "execution_count": 10,
   "metadata": {},
   "outputs": [],
   "source": [
    "#SAVE YOUR PREDICTION on a CSV file named with your StudentID\n",
    "df = pd.DataFrame(y_pred, columns=[\"Prediction\"])\n",
    "df.to_csv(\"123456.csv\", index = False) #replace \"123456\" with ypur SIX DIGIT student id! "
   ]
  }
 ],
 "metadata": {
  "kernelspec": {
   "display_name": "Python 3",
   "language": "python",
   "name": "python3"
  },
  "language_info": {
   "codemirror_mode": {
    "name": "ipython",
    "version": 3
   },
   "file_extension": ".py",
   "mimetype": "text/x-python",
   "name": "python",
   "nbconvert_exporter": "python",
   "pygments_lexer": "ipython3",
   "version": "3.7.0"
  }
 },
 "nbformat": 4,
 "nbformat_minor": 2
}
