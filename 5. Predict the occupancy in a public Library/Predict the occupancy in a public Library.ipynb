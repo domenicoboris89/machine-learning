{
 "cells": [
  {
   "cell_type": "markdown",
   "metadata": {},
   "source": [
    "## Predict the occupancy in a public Library.\n",
    "\n",
    "In the region of Lechi, recent improvements on mental health of the population have increased the use of the public\n",
    "library.<br>\n",
    "In order to face this new scenario, regional government has decided to reorganize the staff and the activities carried\n",
    "out in the library. The library director believes that library occupancy is influenced by the weather conditions, type\n",
    "of day (weekend, workday) and the library staff.\n",
    "In this assignment, you will use regression techniques in order to predict the use of the library by using climatic,\n",
    "temporal and employees information.\n",
    "Your prediction will be evaluated according to the Mean Absolute Error (MAE) metric."
   ]
  },
  {
   "cell_type": "markdown",
   "metadata": {},
   "source": [
    "First let's import the libraries for this assignment."
   ]
  },
  {
   "cell_type": "code",
   "execution_count": 1,
   "metadata": {},
   "outputs": [
    {
     "name": "stderr",
     "output_type": "stream",
     "text": [
      "C:\\Users\\domenicoboris.salvat\\AppData\\Local\\Continuum\\anaconda3\\lib\\site-packages\\sklearn\\ensemble\\weight_boosting.py:29: DeprecationWarning: numpy.core.umath_tests is an internal NumPy module and should not be imported. It will be removed in a future NumPy release.\n",
      "  from numpy.core.umath_tests import inner1d\n"
     ]
    }
   ],
   "source": [
    "# Libraries\n",
    "import pandas as pd\n",
    "import numpy as np\n",
    "import sklearn as sk\n",
    "import statistics as stats\n",
    "import matplotlib.pyplot as plt\n",
    "import seaborn as sns\n",
    "\n",
    "from sklearn.metrics import confusion_matrix\n",
    "from sklearn.model_selection import GridSearchCV\n",
    "from sklearn.model_selection import RandomizedSearchCV\n",
    "from sklearn.preprocessing import LabelEncoder, OneHotEncoder\n",
    "from sklearn.model_selection import train_test_split\n",
    "from sklearn.linear_model import LinearRegression\n",
    "from sklearn.ensemble import RandomForestRegressor\n",
    "from sklearn.svm import SVR\n",
    "from sklearn.metrics import mean_squared_error\n",
    "from sklearn.metrics import mean_absolute_error"
   ]
  },
  {
   "cell_type": "markdown",
   "metadata": {},
   "source": [
    "Let's import the dataset located in the working directory and print its size and top 5 records."
   ]
  },
  {
   "cell_type": "code",
   "execution_count": 2,
   "metadata": {},
   "outputs": [],
   "source": [
    "# Loading the dataset with pandas\n",
    "dir = %pwd\n",
    "data = pd.read_csv('{}\\\\train2.csv'.format(dir))"
   ]
  },
  {
   "cell_type": "code",
   "execution_count": 3,
   "metadata": {},
   "outputs": [
    {
     "name": "stdout",
     "output_type": "stream",
     "text": [
      "Dataset size :  (10427, 15)\n"
     ]
    },
    {
     "data": {
      "text/html": [
       "<div>\n",
       "<style scoped>\n",
       "    .dataframe tbody tr th:only-of-type {\n",
       "        vertical-align: middle;\n",
       "    }\n",
       "\n",
       "    .dataframe tbody tr th {\n",
       "        vertical-align: top;\n",
       "    }\n",
       "\n",
       "    .dataframe thead th {\n",
       "        text-align: right;\n",
       "    }\n",
       "</style>\n",
       "<table border=\"1\" class=\"dataframe\">\n",
       "  <thead>\n",
       "    <tr style=\"text-align: right;\">\n",
       "      <th></th>\n",
       "      <th>Unnamed: 0</th>\n",
       "      <th>dteday</th>\n",
       "      <th>hr</th>\n",
       "      <th>holiday</th>\n",
       "      <th>weekday</th>\n",
       "      <th>workingday</th>\n",
       "      <th>season_t</th>\n",
       "      <th>weather</th>\n",
       "      <th>temperature</th>\n",
       "      <th>s_temp</th>\n",
       "      <th>humidity</th>\n",
       "      <th>winds</th>\n",
       "      <th>n_employee</th>\n",
       "      <th>exp_employee</th>\n",
       "      <th>occupancy</th>\n",
       "    </tr>\n",
       "  </thead>\n",
       "  <tbody>\n",
       "    <tr>\n",
       "      <th>0</th>\n",
       "      <td>0</td>\n",
       "      <td>2011-05-19</td>\n",
       "      <td>1</td>\n",
       "      <td>0</td>\n",
       "      <td>4</td>\n",
       "      <td>1</td>\n",
       "      <td>summer</td>\n",
       "      <td>Clear</td>\n",
       "      <td>20.50</td>\n",
       "      <td>24.240</td>\n",
       "      <td>94</td>\n",
       "      <td>0.0</td>\n",
       "      <td>2.67</td>\n",
       "      <td>9.29</td>\n",
       "      <td>6</td>\n",
       "    </tr>\n",
       "    <tr>\n",
       "      <th>1</th>\n",
       "      <td>1</td>\n",
       "      <td>2012-08-19</td>\n",
       "      <td>18</td>\n",
       "      <td>0</td>\n",
       "      <td>0</td>\n",
       "      <td>0</td>\n",
       "      <td>fall</td>\n",
       "      <td>Cloudy</td>\n",
       "      <td>26.24</td>\n",
       "      <td>29.545</td>\n",
       "      <td>78</td>\n",
       "      <td>7.0</td>\n",
       "      <td>2.67</td>\n",
       "      <td>3.57</td>\n",
       "      <td>377</td>\n",
       "    </tr>\n",
       "    <tr>\n",
       "      <th>2</th>\n",
       "      <td>2</td>\n",
       "      <td>2011-09-24</td>\n",
       "      <td>8</td>\n",
       "      <td>0</td>\n",
       "      <td>6</td>\n",
       "      <td>0</td>\n",
       "      <td>winter</td>\n",
       "      <td>Cloudy</td>\n",
       "      <td>23.78</td>\n",
       "      <td>27.275</td>\n",
       "      <td>90</td>\n",
       "      <td>6.0</td>\n",
       "      <td>2.67</td>\n",
       "      <td>28.00</td>\n",
       "      <td>121</td>\n",
       "    </tr>\n",
       "    <tr>\n",
       "      <th>3</th>\n",
       "      <td>3</td>\n",
       "      <td>2012-11-05</td>\n",
       "      <td>4</td>\n",
       "      <td>0</td>\n",
       "      <td>1</td>\n",
       "      <td>1</td>\n",
       "      <td>winter</td>\n",
       "      <td>Cloudy</td>\n",
       "      <td>12.30</td>\n",
       "      <td>14.395</td>\n",
       "      <td>52</td>\n",
       "      <td>17.0</td>\n",
       "      <td>2.67</td>\n",
       "      <td>4.57</td>\n",
       "      <td>16</td>\n",
       "    </tr>\n",
       "    <tr>\n",
       "      <th>4</th>\n",
       "      <td>4</td>\n",
       "      <td>2011-11-12</td>\n",
       "      <td>0</td>\n",
       "      <td>0</td>\n",
       "      <td>6</td>\n",
       "      <td>0</td>\n",
       "      <td>winter</td>\n",
       "      <td>Clear</td>\n",
       "      <td>9.84</td>\n",
       "      <td>12.120</td>\n",
       "      <td>60</td>\n",
       "      <td>9.0</td>\n",
       "      <td>1.67</td>\n",
       "      <td>7.57</td>\n",
       "      <td>64</td>\n",
       "    </tr>\n",
       "  </tbody>\n",
       "</table>\n",
       "</div>"
      ],
      "text/plain": [
       "   Unnamed: 0      dteday  hr  holiday  weekday  workingday season_t weather  \\\n",
       "0           0  2011-05-19   1        0        4           1   summer   Clear   \n",
       "1           1  2012-08-19  18        0        0           0     fall  Cloudy   \n",
       "2           2  2011-09-24   8        0        6           0   winter  Cloudy   \n",
       "3           3  2012-11-05   4        0        1           1   winter  Cloudy   \n",
       "4           4  2011-11-12   0        0        6           0   winter   Clear   \n",
       "\n",
       "   temperature  s_temp  humidity  winds  n_employee  exp_employee  occupancy  \n",
       "0        20.50  24.240        94    0.0        2.67          9.29          6  \n",
       "1        26.24  29.545        78    7.0        2.67          3.57        377  \n",
       "2        23.78  27.275        90    6.0        2.67         28.00        121  \n",
       "3        12.30  14.395        52   17.0        2.67          4.57         16  \n",
       "4         9.84  12.120        60    9.0        1.67          7.57         64  "
      ]
     },
     "execution_count": 3,
     "metadata": {},
     "output_type": "execute_result"
    }
   ],
   "source": [
    "print('Dataset size : ', data.shape)\n",
    "data.head(5)"
   ]
  },
  {
   "cell_type": "markdown",
   "metadata": {},
   "source": [
    "## Removing additional index-column\n",
    "The .csv file containing training data, has an additional columns \"Unnamed : 0\" with the indexes of each record. Since we don't need this column (as Pandas has already an index column) we will remove it from the dataset."
   ]
  },
  {
   "cell_type": "code",
   "execution_count": 4,
   "metadata": {},
   "outputs": [
    {
     "name": "stdout",
     "output_type": "stream",
     "text": [
      "Original columns :\n",
      " ['Unnamed: 0', 'dteday', 'hr', 'holiday', 'weekday', 'workingday', 'season_t', 'weather', 'temperature', 's_temp', 'humidity', 'winds', 'n_employee', 'exp_employee', 'occupancy']\n"
     ]
    },
    {
     "data": {
      "text/html": [
       "<div>\n",
       "<style scoped>\n",
       "    .dataframe tbody tr th:only-of-type {\n",
       "        vertical-align: middle;\n",
       "    }\n",
       "\n",
       "    .dataframe tbody tr th {\n",
       "        vertical-align: top;\n",
       "    }\n",
       "\n",
       "    .dataframe thead th {\n",
       "        text-align: right;\n",
       "    }\n",
       "</style>\n",
       "<table border=\"1\" class=\"dataframe\">\n",
       "  <thead>\n",
       "    <tr style=\"text-align: right;\">\n",
       "      <th></th>\n",
       "      <th>dteday</th>\n",
       "      <th>hr</th>\n",
       "      <th>holiday</th>\n",
       "      <th>weekday</th>\n",
       "      <th>workingday</th>\n",
       "      <th>season_t</th>\n",
       "      <th>weather</th>\n",
       "      <th>temperature</th>\n",
       "      <th>s_temp</th>\n",
       "      <th>humidity</th>\n",
       "      <th>winds</th>\n",
       "      <th>n_employee</th>\n",
       "      <th>exp_employee</th>\n",
       "      <th>occupancy</th>\n",
       "    </tr>\n",
       "  </thead>\n",
       "  <tbody>\n",
       "    <tr>\n",
       "      <th>0</th>\n",
       "      <td>2011-05-19</td>\n",
       "      <td>1</td>\n",
       "      <td>0</td>\n",
       "      <td>4</td>\n",
       "      <td>1</td>\n",
       "      <td>summer</td>\n",
       "      <td>Clear</td>\n",
       "      <td>20.50</td>\n",
       "      <td>24.240</td>\n",
       "      <td>94</td>\n",
       "      <td>0.0</td>\n",
       "      <td>2.67</td>\n",
       "      <td>9.29</td>\n",
       "      <td>6</td>\n",
       "    </tr>\n",
       "    <tr>\n",
       "      <th>1</th>\n",
       "      <td>2012-08-19</td>\n",
       "      <td>18</td>\n",
       "      <td>0</td>\n",
       "      <td>0</td>\n",
       "      <td>0</td>\n",
       "      <td>fall</td>\n",
       "      <td>Cloudy</td>\n",
       "      <td>26.24</td>\n",
       "      <td>29.545</td>\n",
       "      <td>78</td>\n",
       "      <td>7.0</td>\n",
       "      <td>2.67</td>\n",
       "      <td>3.57</td>\n",
       "      <td>377</td>\n",
       "    </tr>\n",
       "    <tr>\n",
       "      <th>2</th>\n",
       "      <td>2011-09-24</td>\n",
       "      <td>8</td>\n",
       "      <td>0</td>\n",
       "      <td>6</td>\n",
       "      <td>0</td>\n",
       "      <td>winter</td>\n",
       "      <td>Cloudy</td>\n",
       "      <td>23.78</td>\n",
       "      <td>27.275</td>\n",
       "      <td>90</td>\n",
       "      <td>6.0</td>\n",
       "      <td>2.67</td>\n",
       "      <td>28.00</td>\n",
       "      <td>121</td>\n",
       "    </tr>\n",
       "    <tr>\n",
       "      <th>3</th>\n",
       "      <td>2012-11-05</td>\n",
       "      <td>4</td>\n",
       "      <td>0</td>\n",
       "      <td>1</td>\n",
       "      <td>1</td>\n",
       "      <td>winter</td>\n",
       "      <td>Cloudy</td>\n",
       "      <td>12.30</td>\n",
       "      <td>14.395</td>\n",
       "      <td>52</td>\n",
       "      <td>17.0</td>\n",
       "      <td>2.67</td>\n",
       "      <td>4.57</td>\n",
       "      <td>16</td>\n",
       "    </tr>\n",
       "    <tr>\n",
       "      <th>4</th>\n",
       "      <td>2011-11-12</td>\n",
       "      <td>0</td>\n",
       "      <td>0</td>\n",
       "      <td>6</td>\n",
       "      <td>0</td>\n",
       "      <td>winter</td>\n",
       "      <td>Clear</td>\n",
       "      <td>9.84</td>\n",
       "      <td>12.120</td>\n",
       "      <td>60</td>\n",
       "      <td>9.0</td>\n",
       "      <td>1.67</td>\n",
       "      <td>7.57</td>\n",
       "      <td>64</td>\n",
       "    </tr>\n",
       "  </tbody>\n",
       "</table>\n",
       "</div>"
      ],
      "text/plain": [
       "       dteday  hr  holiday  weekday  workingday season_t weather  temperature  \\\n",
       "0  2011-05-19   1        0        4           1   summer   Clear        20.50   \n",
       "1  2012-08-19  18        0        0           0     fall  Cloudy        26.24   \n",
       "2  2011-09-24   8        0        6           0   winter  Cloudy        23.78   \n",
       "3  2012-11-05   4        0        1           1   winter  Cloudy        12.30   \n",
       "4  2011-11-12   0        0        6           0   winter   Clear         9.84   \n",
       "\n",
       "   s_temp  humidity  winds  n_employee  exp_employee  occupancy  \n",
       "0  24.240        94    0.0        2.67          9.29          6  \n",
       "1  29.545        78    7.0        2.67          3.57        377  \n",
       "2  27.275        90    6.0        2.67         28.00        121  \n",
       "3  14.395        52   17.0        2.67          4.57         16  \n",
       "4  12.120        60    9.0        1.67          7.57         64  "
      ]
     },
     "execution_count": 4,
     "metadata": {},
     "output_type": "execute_result"
    }
   ],
   "source": [
    "# Cleaning Data : Removing Index Column\n",
    "print('Original columns :\\n' , list(data.columns))\n",
    "data.drop(data.columns[0], axis = 1, inplace= True)\n",
    "data.head(5)"
   ]
  },
  {
   "cell_type": "markdown",
   "metadata": {},
   "source": [
    "Now let's explore the dataset using .describe() funcionality in pandas. <br>\n",
    "#### No missing Values\n",
    "From the count of each variable we don't reveal the presence of missing values.<br>\n",
    "#### Datetime\n",
    "__dteday__ it's a datetime variable counting 731 days (roughly 2 years of data).\n",
    "#### Categorical Variables\n",
    "__season__ and __weather__ are two __categorical string variables__ with 4 categories each.<br>\n",
    "__hr__ and __weekday__ are also categorical variables but with integer values. <br> \n",
    "#### Binary Variables\n",
    "__holiday__ and __workingday__ are two binary variables. \n",
    "<br>The other variables contains numerical values and __occupancy__ is the target of analysis."
   ]
  },
  {
   "cell_type": "code",
   "execution_count": 5,
   "metadata": {},
   "outputs": [
    {
     "name": "stdout",
     "output_type": "stream",
     "text": [
      "<class 'pandas.core.frame.DataFrame'>\n",
      "RangeIndex: 10427 entries, 0 to 10426\n",
      "Data columns (total 14 columns):\n",
      "dteday          10427 non-null object\n",
      "hr              10427 non-null int64\n",
      "holiday         10427 non-null int64\n",
      "weekday         10427 non-null int64\n",
      "workingday      10427 non-null int64\n",
      "season_t        10427 non-null object\n",
      "weather         10427 non-null object\n",
      "temperature     10427 non-null float64\n",
      "s_temp          10427 non-null float64\n",
      "humidity        10427 non-null int64\n",
      "winds           10427 non-null float64\n",
      "n_employee      10427 non-null float64\n",
      "exp_employee    10427 non-null float64\n",
      "occupancy       10427 non-null int64\n",
      "dtypes: float64(5), int64(6), object(3)\n",
      "memory usage: 1.1+ MB\n"
     ]
    },
    {
     "data": {
      "text/html": [
       "<div>\n",
       "<style scoped>\n",
       "    .dataframe tbody tr th:only-of-type {\n",
       "        vertical-align: middle;\n",
       "    }\n",
       "\n",
       "    .dataframe tbody tr th {\n",
       "        vertical-align: top;\n",
       "    }\n",
       "\n",
       "    .dataframe thead th {\n",
       "        text-align: right;\n",
       "    }\n",
       "</style>\n",
       "<table border=\"1\" class=\"dataframe\">\n",
       "  <thead>\n",
       "    <tr style=\"text-align: right;\">\n",
       "      <th></th>\n",
       "      <th>hr</th>\n",
       "      <th>holiday</th>\n",
       "      <th>weekday</th>\n",
       "      <th>workingday</th>\n",
       "      <th>temperature</th>\n",
       "      <th>s_temp</th>\n",
       "      <th>humidity</th>\n",
       "      <th>winds</th>\n",
       "      <th>n_employee</th>\n",
       "      <th>exp_employee</th>\n",
       "      <th>occupancy</th>\n",
       "    </tr>\n",
       "  </thead>\n",
       "  <tbody>\n",
       "    <tr>\n",
       "      <th>count</th>\n",
       "      <td>10427.000000</td>\n",
       "      <td>10427.000000</td>\n",
       "      <td>10427.000000</td>\n",
       "      <td>10427.000000</td>\n",
       "      <td>10427.000000</td>\n",
       "      <td>10427.000000</td>\n",
       "      <td>10427.000000</td>\n",
       "      <td>10427.000000</td>\n",
       "      <td>10427.000000</td>\n",
       "      <td>10427.000000</td>\n",
       "      <td>10427.000000</td>\n",
       "    </tr>\n",
       "    <tr>\n",
       "      <th>mean</th>\n",
       "      <td>11.586171</td>\n",
       "      <td>0.026949</td>\n",
       "      <td>3.002302</td>\n",
       "      <td>0.680253</td>\n",
       "      <td>20.414831</td>\n",
       "      <td>23.847285</td>\n",
       "      <td>62.713820</td>\n",
       "      <td>12.713916</td>\n",
       "      <td>2.336256</td>\n",
       "      <td>15.134561</td>\n",
       "      <td>191.480100</td>\n",
       "    </tr>\n",
       "    <tr>\n",
       "      <th>std</th>\n",
       "      <td>6.920372</td>\n",
       "      <td>0.161943</td>\n",
       "      <td>2.014953</td>\n",
       "      <td>0.466401</td>\n",
       "      <td>7.901815</td>\n",
       "      <td>8.603002</td>\n",
       "      <td>19.345313</td>\n",
       "      <td>8.182245</td>\n",
       "      <td>0.467820</td>\n",
       "      <td>8.806866</td>\n",
       "      <td>183.072824</td>\n",
       "    </tr>\n",
       "    <tr>\n",
       "      <th>min</th>\n",
       "      <td>0.000000</td>\n",
       "      <td>0.000000</td>\n",
       "      <td>0.000000</td>\n",
       "      <td>0.000000</td>\n",
       "      <td>0.820000</td>\n",
       "      <td>0.000000</td>\n",
       "      <td>0.000000</td>\n",
       "      <td>0.000000</td>\n",
       "      <td>1.670000</td>\n",
       "      <td>0.000000</td>\n",
       "      <td>1.000000</td>\n",
       "    </tr>\n",
       "    <tr>\n",
       "      <th>25%</th>\n",
       "      <td>6.000000</td>\n",
       "      <td>0.000000</td>\n",
       "      <td>1.000000</td>\n",
       "      <td>0.000000</td>\n",
       "      <td>13.940000</td>\n",
       "      <td>16.665000</td>\n",
       "      <td>48.000000</td>\n",
       "      <td>7.000000</td>\n",
       "      <td>2.000000</td>\n",
       "      <td>7.430000</td>\n",
       "      <td>40.000000</td>\n",
       "    </tr>\n",
       "    <tr>\n",
       "      <th>50%</th>\n",
       "      <td>12.000000</td>\n",
       "      <td>0.000000</td>\n",
       "      <td>3.000000</td>\n",
       "      <td>1.000000</td>\n",
       "      <td>20.500000</td>\n",
       "      <td>24.240000</td>\n",
       "      <td>63.000000</td>\n",
       "      <td>11.000000</td>\n",
       "      <td>2.330000</td>\n",
       "      <td>15.000000</td>\n",
       "      <td>145.000000</td>\n",
       "    </tr>\n",
       "    <tr>\n",
       "      <th>75%</th>\n",
       "      <td>18.000000</td>\n",
       "      <td>0.000000</td>\n",
       "      <td>5.000000</td>\n",
       "      <td>1.000000</td>\n",
       "      <td>27.060000</td>\n",
       "      <td>31.060000</td>\n",
       "      <td>79.000000</td>\n",
       "      <td>17.000000</td>\n",
       "      <td>2.670000</td>\n",
       "      <td>22.860000</td>\n",
       "      <td>282.000000</td>\n",
       "    </tr>\n",
       "    <tr>\n",
       "      <th>max</th>\n",
       "      <td>23.000000</td>\n",
       "      <td>1.000000</td>\n",
       "      <td>6.000000</td>\n",
       "      <td>1.000000</td>\n",
       "      <td>41.000000</td>\n",
       "      <td>49.240000</td>\n",
       "      <td>100.000000</td>\n",
       "      <td>57.000000</td>\n",
       "      <td>3.000000</td>\n",
       "      <td>30.290000</td>\n",
       "      <td>976.000000</td>\n",
       "    </tr>\n",
       "  </tbody>\n",
       "</table>\n",
       "</div>"
      ],
      "text/plain": [
       "                 hr       holiday       weekday    workingday   temperature  \\\n",
       "count  10427.000000  10427.000000  10427.000000  10427.000000  10427.000000   \n",
       "mean      11.586171      0.026949      3.002302      0.680253     20.414831   \n",
       "std        6.920372      0.161943      2.014953      0.466401      7.901815   \n",
       "min        0.000000      0.000000      0.000000      0.000000      0.820000   \n",
       "25%        6.000000      0.000000      1.000000      0.000000     13.940000   \n",
       "50%       12.000000      0.000000      3.000000      1.000000     20.500000   \n",
       "75%       18.000000      0.000000      5.000000      1.000000     27.060000   \n",
       "max       23.000000      1.000000      6.000000      1.000000     41.000000   \n",
       "\n",
       "             s_temp      humidity         winds    n_employee  exp_employee  \\\n",
       "count  10427.000000  10427.000000  10427.000000  10427.000000  10427.000000   \n",
       "mean      23.847285     62.713820     12.713916      2.336256     15.134561   \n",
       "std        8.603002     19.345313      8.182245      0.467820      8.806866   \n",
       "min        0.000000      0.000000      0.000000      1.670000      0.000000   \n",
       "25%       16.665000     48.000000      7.000000      2.000000      7.430000   \n",
       "50%       24.240000     63.000000     11.000000      2.330000     15.000000   \n",
       "75%       31.060000     79.000000     17.000000      2.670000     22.860000   \n",
       "max       49.240000    100.000000     57.000000      3.000000     30.290000   \n",
       "\n",
       "          occupancy  \n",
       "count  10427.000000  \n",
       "mean     191.480100  \n",
       "std      183.072824  \n",
       "min        1.000000  \n",
       "25%       40.000000  \n",
       "50%      145.000000  \n",
       "75%      282.000000  \n",
       "max      976.000000  "
      ]
     },
     "execution_count": 5,
     "metadata": {},
     "output_type": "execute_result"
    }
   ],
   "source": [
    "# Exploring Data :\n",
    "data.info()\n",
    "data.describe()"
   ]
  },
  {
   "cell_type": "markdown",
   "metadata": {},
   "source": [
    "## Correcting data types\n",
    "Dteday column has \"object\" type, we need to convert it in a date time format."
   ]
  },
  {
   "cell_type": "code",
   "execution_count": 6,
   "metadata": {},
   "outputs": [
    {
     "name": "stdout",
     "output_type": "stream",
     "text": [
      "<class 'pandas.core.frame.DataFrame'>\n",
      "RangeIndex: 10427 entries, 0 to 10426\n",
      "Data columns (total 14 columns):\n",
      "dteday          10427 non-null datetime64[ns]\n",
      "hr              10427 non-null int64\n",
      "holiday         10427 non-null int64\n",
      "weekday         10427 non-null int64\n",
      "workingday      10427 non-null int64\n",
      "season_t        10427 non-null object\n",
      "weather         10427 non-null object\n",
      "temperature     10427 non-null float64\n",
      "s_temp          10427 non-null float64\n",
      "humidity        10427 non-null int64\n",
      "winds           10427 non-null float64\n",
      "n_employee      10427 non-null float64\n",
      "exp_employee    10427 non-null float64\n",
      "occupancy       10427 non-null int64\n",
      "dtypes: datetime64[ns](1), float64(5), int64(6), object(2)\n",
      "memory usage: 1.1+ MB\n"
     ]
    },
    {
     "data": {
      "text/plain": [
       "count    10427.000000\n",
       "mean       191.480100\n",
       "std        183.072824\n",
       "min          1.000000\n",
       "25%         40.000000\n",
       "50%        145.000000\n",
       "75%        282.000000\n",
       "max        976.000000\n",
       "Name: occupancy, dtype: float64"
      ]
     },
     "execution_count": 6,
     "metadata": {},
     "output_type": "execute_result"
    }
   ],
   "source": [
    "data['dteday'] = pd.to_datetime(data['dteday'], format='%Y-%m-%d')\n",
    "data.info()\n",
    "data['occupancy'].describe()"
   ]
  },
  {
   "cell_type": "markdown",
   "metadata": {},
   "source": [
    "## Data Exploration"
   ]
  },
  {
   "cell_type": "markdown",
   "metadata": {},
   "source": [
    "### Date & Yearly increase\n",
    "From the observation of daily average occupancy over the time, we see two cycles with peak during summer and minimum during winter (January). <br>\n",
    "__The overall trend it's increasing YoY__ by 66%."
   ]
  },
  {
   "cell_type": "code",
   "execution_count": 7,
   "metadata": {},
   "outputs": [
    {
     "data": {
      "text/plain": [
       "<matplotlib.axes._subplots.AxesSubplot at 0x201507cd0f0>"
      ]
     },
     "execution_count": 7,
     "metadata": {},
     "output_type": "execute_result"
    },
    {
     "data": {
      "image/png": "[encoded data removed]",
      "text/plain": [
       "<Figure size 1080x360 with 1 Axes>"
      ]
     },
     "metadata": {
      "needs_background": "light"
     },
     "output_type": "display_data"
    }
   ],
   "source": [
    "# Occupancy Distribution over time\n",
    "data[['dteday','occupancy']].groupby('dteday').mean().plot(kind = 'line', \n",
    "                                                           figsize=(15,5),\n",
    "                                                           title = 'Daily average occupancy of Library over two years.')"
   ]
  },
  {
   "cell_type": "code",
   "execution_count": 8,
   "metadata": {},
   "outputs": [
    {
     "name": "stdout",
     "output_type": "stream",
     "text": [
      "       occupancy\n",
      "year            \n",
      "2011  143.568199\n",
      "2012  238.707675\n",
      "delta YoY :  0.6634146341463414\n"
     ]
    }
   ],
   "source": [
    "year = data['dteday'].dt.year\n",
    "data['year'] = year\n",
    "print(data[['year','occupancy']].groupby('year').mean())\n",
    "print('delta YoY : ', 238.7 / 143.5 -1 ) "
   ]
  },
  {
   "cell_type": "markdown",
   "metadata": {},
   "source": [
    "### Monthly & Season\n",
    "The months with lower occupancy are January, February and December (winter), while summer months have higher occupancy.<br>\n",
    "__Surprisingly, the _season_ variable tells that it's spring rather than winter, the season with lower occupancy.__"
   ]
  },
  {
   "cell_type": "code",
   "execution_count": 9,
   "metadata": {},
   "outputs": [
    {
     "data": {
      "text/plain": [
       "<matplotlib.axes._subplots.AxesSubplot at 0x20150b69240>"
      ]
     },
     "execution_count": 9,
     "metadata": {},
     "output_type": "execute_result"
    },
    {
     "data": {
      "image/png": "[encoded data removed]",
      "text/plain": [
       "<Figure size 1080x360 with 1 Axes>"
      ]
     },
     "metadata": {
      "needs_background": "light"
     },
     "output_type": "display_data"
    },
    {
     "data": {
      "image/png": "[encoded data removed]",
      "text/plain": [
       "<Figure size 1080x360 with 1 Axes>"
      ]
     },
     "metadata": {
      "needs_background": "light"
     },
     "output_type": "display_data"
    }
   ],
   "source": [
    "month = data['dteday'].dt.month\n",
    "data['month'] = month\n",
    "data[['month','occupancy']].groupby('month').mean().plot(kind = 'bar',\n",
    "                                                        figsize = (15,5),\n",
    "                                                        title = 'Monthly avg. occupancy of the Library',\n",
    "                                                        legend = False)\n",
    "data[['season_t','occupancy']].groupby('season_t').mean().plot(kind = 'bar',\n",
    "                                                        figsize = (15,5),\n",
    "                                                        title = 'Seasonal avg. occupancy of the Library',\n",
    "                                                        color = 'brown',\n",
    "                                                        legend = False)\n"
   ]
  },
  {
   "cell_type": "markdown",
   "metadata": {},
   "source": [
    "### Hour of the day\n",
    "From the next figure, we see that the hourly average occupancy of the Library is bi-modal, with peaks in the afternoon [16-19] and in the morning [7-9]. There is some presence in the evening and late night hours (probably staff members)."
   ]
  },
  {
   "cell_type": "code",
   "execution_count": 10,
   "metadata": {},
   "outputs": [
    {
     "data": {
      "text/plain": [
       "<matplotlib.axes._subplots.AxesSubplot at 0x20150bbff98>"
      ]
     },
     "execution_count": 10,
     "metadata": {},
     "output_type": "execute_result"
    },
    {
     "data": {
      "image/png": "[encoded data removed]",
      "text/plain": [
       "<Figure size 1080x360 with 1 Axes>"
      ]
     },
     "metadata": {
      "needs_background": "light"
     },
     "output_type": "display_data"
    }
   ],
   "source": [
    "# Occupancy Distribution hourly\n",
    "data[['hr','occupancy']].groupby('hr').mean().plot(kind = 'bar',\n",
    "                                                  figsize = (15,5),\n",
    "                                                  title = 'Hourly occupancy of Library',\n",
    "                                                  legend = False\n",
    "                                                  )"
   ]
  },
  {
   "cell_type": "markdown",
   "metadata": {},
   "source": [
    "### Day of the week\n",
    "__weekday__ is a numerical categorical variable where each number from 0-6 correspond to a day of the week from Sunday (0) to Saturday (6).<br>\n",
    "Sunday and Monday have lower occupancy compared to the other days of the week, including Saturday."
   ]
  },
  {
   "cell_type": "code",
   "execution_count": 11,
   "metadata": {},
   "outputs": [
    {
     "data": {
      "text/plain": [
       "<matplotlib.axes._subplots.AxesSubplot at 0x20150c2a160>"
      ]
     },
     "execution_count": 11,
     "metadata": {},
     "output_type": "execute_result"
    },
    {
     "data": {
      "image/png": "[encoded data removed]",
      "text/plain": [
       "<Figure size 1080x504 with 1 Axes>"
      ]
     },
     "metadata": {
      "needs_background": "light"
     },
     "output_type": "display_data"
    }
   ],
   "source": [
    "# Occupancy Distribution during weekdays\n",
    "data[['weekday','occupancy']].groupby('weekday').mean().plot(kind = 'bar',\n",
    "                                                  figsize = (15,7),\n",
    "                                                  title = 'Average occupancy of the Library by day of the week',\n",
    "                                                  legend = False)"
   ]
  },
  {
   "cell_type": "markdown",
   "metadata": {},
   "source": [
    "### Weekends & Holidays\n",
    "The next two figures confirm the assumption that the occupancy of the library is on average higher during working days and significantly lower during holidays. "
   ]
  },
  {
   "cell_type": "code",
   "execution_count": 12,
   "metadata": {},
   "outputs": [
    {
     "data": {
      "text/plain": [
       "<matplotlib.axes._subplots.AxesSubplot at 0x20150fbab70>"
      ]
     },
     "execution_count": 12,
     "metadata": {},
     "output_type": "execute_result"
    },
    {
     "data": {
      "image/png": "[encoded data removed]",
      "text/plain": [
       "<Figure size 360x360 with 1 Axes>"
      ]
     },
     "metadata": {
      "needs_background": "light"
     },
     "output_type": "display_data"
    },
    {
     "data": {
      "image/png": "[encoded data removed]",
      "text/plain": [
       "<Figure size 360x360 with 1 Axes>"
      ]
     },
     "metadata": {
      "needs_background": "light"
     },
     "output_type": "display_data"
    }
   ],
   "source": [
    "# Occupancy Distributiond during workday & holidays\n",
    "data[['workingday','occupancy']].groupby('workingday').mean().plot(kind = 'bar',\n",
    "                                                                   figsize = (5,5),\n",
    "                                                                   title = 'Average occupancy during working days (1)',\n",
    "                                                                   legend = False)\n",
    "data[['holiday','occupancy']].groupby('holiday').mean().plot(kind = 'bar',\n",
    "                                                             figsize = (5,5),\n",
    "                                                             title = 'Average occupancy during holidays (1)',\n",
    "                                                             color = 'green',\n",
    "                                                             legend = False)"
   ]
  },
  {
   "cell_type": "markdown",
   "metadata": {},
   "source": [
    "### Boxplots of Seasons and Weather conditions"
   ]
  },
  {
   "cell_type": "markdown",
   "metadata": {},
   "source": [
    "Using Boxplot, we see that the mean occupancy of the library in Fall is higher compared to the other seasons. Spring, on the other hand, has a lower mean and the distribution of values is more compact. Summer and Winter distributions are pretti much similar. There is the presence of outliers in all the seasons. "
   ]
  },
  {
   "cell_type": "code",
   "execution_count": 13,
   "metadata": {},
   "outputs": [
    {
     "data": {
      "text/plain": [
       "<matplotlib.axes._subplots.AxesSubplot at 0x20150faa6a0>"
      ]
     },
     "execution_count": 13,
     "metadata": {},
     "output_type": "execute_result"
    },
    {
     "data": {
      "image/png": "[encoded data removed]",
      "text/plain": [
       "<Figure size 360x432 with 1 Axes>"
      ]
     },
     "metadata": {
      "needs_background": "light"
     },
     "output_type": "display_data"
    }
   ],
   "source": [
    "# Exploring Seasons\n",
    "data.boxplot('occupancy','season_t', rot = 30, figsize=(5,6))"
   ]
  },
  {
   "cell_type": "markdown",
   "metadata": {},
   "source": [
    "For what concers weather conditions, we notice that during \"clear\" days, there is a big variability of library occupation, compared to \"LightRain\" and \"Snow\". In this case we have a very compact Boxplot, with no outliers. Snow weather conditions results a good marker of library occupancy."
   ]
  },
  {
   "cell_type": "code",
   "execution_count": 14,
   "metadata": {},
   "outputs": [
    {
     "data": {
      "text/plain": [
       "<matplotlib.axes._subplots.AxesSubplot at 0x20151043cf8>"
      ]
     },
     "execution_count": 14,
     "metadata": {},
     "output_type": "execute_result"
    },
    {
     "data": {
      "image/png": "[encoded data removed]",
      "text/plain": [
       "<Figure size 360x432 with 1 Axes>"
      ]
     },
     "metadata": {
      "needs_background": "light"
     },
     "output_type": "display_data"
    }
   ],
   "source": [
    "# Exploring Weather\n",
    "data.boxplot('occupancy','weather', rot = 30, figsize=(5,6))"
   ]
  },
  {
   "cell_type": "markdown",
   "metadata": {},
   "source": [
    "### Heatmap of Correlations for numerical variables\n",
    "\n",
    "To understand the correlations of _occupancy_ and the other numerical variables, let's plot an heatmap.<br>\n",
    "__Temperature__<br>\n",
    "The figure shows that _occupancy_ is positively correlated to the external _temperature_ and perceived temperature _sTemp_.\n",
    "However _temperature_ and _stemperature_ are directly correlated. To __avoid multicollinearity__ we will pick only one dimension, in this case _temperature_.<br>\n",
    "__Humidity__<br>\n",
    "There is a negative correlations between _occupancy_ of the library and levels of humidity.<br>\n",
    "__Wind__<br>\n",
    "There is a weak positive correlations between winds and occupancy.<br>\n",
    "__Employees__<br>\n",
    "There is no correlations between the number and the experience of the employees and the occupancy of the library."
   ]
  },
  {
   "cell_type": "code",
   "execution_count": 15,
   "metadata": {},
   "outputs": [
    {
     "name": "stdout",
     "output_type": "stream",
     "text": [
      "              occupancy  temperature    s_temp  humidity     winds  \\\n",
      "occupancy      1.000000     0.405264  0.402489 -0.324504  0.089091   \n",
      "temperature    0.405264     1.000000  0.989680 -0.075741 -0.022414   \n",
      "s_temp         0.402489     0.989680  1.000000 -0.060052 -0.060224   \n",
      "humidity      -0.324504    -0.075741 -0.060052  1.000000 -0.295253   \n",
      "winds          0.089091    -0.022414 -0.060224 -0.295253  1.000000   \n",
      "n_employee    -0.003997    -0.013608 -0.013551 -0.013365  0.006372   \n",
      "exp_employee  -0.001944    -0.027093 -0.026548  0.000306  0.010031   \n",
      "\n",
      "              n_employee  exp_employee  \n",
      "occupancy      -0.003997     -0.001944  \n",
      "temperature    -0.013608     -0.027093  \n",
      "s_temp         -0.013551     -0.026548  \n",
      "humidity       -0.013365      0.000306  \n",
      "winds           0.006372      0.010031  \n",
      "n_employee      1.000000     -0.013474  \n",
      "exp_employee   -0.013474      1.000000  \n"
     ]
    },
    {
     "data": {
      "image/png": "[encoded data removed]",
      "text/plain": [
       "<Figure size 1080x1080 with 2 Axes>"
      ]
     },
     "metadata": {
      "needs_background": "light"
     },
     "output_type": "display_data"
    }
   ],
   "source": [
    "# Heatmap correlations\n",
    "#numerical_variables = ['temperature', 's_temp', 'humidity', 'winds', 'n_employee', 'exp_employee']\n",
    "data_to_corr = data[['occupancy','temperature', 's_temp', 'humidity', 'winds', 'n_employee', 'exp_employee']]\n",
    "correlations = data_to_corr.corr()\n",
    "\n",
    "print(correlations)\n",
    "\n",
    "fig = plt.figure(figsize = (15,15))\n",
    "ax = fig.add_subplot(111)\n",
    "cax = ax.matshow(correlations, vmin=-1, vmax=1, cmap = 'bwr')\n",
    "fig.colorbar(cax)\n",
    "ticks = np.arange(0,7,1)\n",
    "ax.set_xticks(ticks)\n",
    "ax.set_yticks(ticks)\n",
    "ax.set_xticklabels(list(data_to_corr.columns.values),rotation='vertical')\n",
    "ax.set_yticklabels(list(data_to_corr.columns.values) )\n",
    "\n",
    "plt.show()"
   ]
  },
  {
   "cell_type": "markdown",
   "metadata": {},
   "source": [
    "## Data Preparation\n",
    "\n",
    "From the dataset exploration, we can conclude that the dataset should be worked, as follow (__dataprep__):\n",
    "\n",
    "__1 - Add an Year Colum__  since there is an YoY +66% overall increase in Occupancy.<br>\n",
    "__2 - Divide Hours in bins__ according to the peak hours :\n",
    "    - \"hr_7_9\" 1st peak.\n",
    "    - \"hr_10_15\" normal affluence. \n",
    "    - \"hr_16-19\" highest peak.\n",
    "    - \"hr_20_22\" late hours.\n",
    "    - \"hr_23-06\" night hours.\n",
    "__3 - Create 4 new season binary variables__ from datetime, according to the meteorological season as follows :\n",
    "    - \"is_spring\" from march till may [3,4,5]\n",
    "    - \"is_summer\" from june till august [6,7,8]\n",
    "    - \"is_fall\" from september till november [9,10,11]\n",
    "    - \"is_winter\" from december till february [12,1,2]\n",
    "__4 - Drop perceived temperature \"s_temp\"__ to avoid multicollinearity with __temperature__.<br>\n",
    "__5 - One hot encode Weather variable.__\n",
    "    "
   ]
  },
  {
   "cell_type": "markdown",
   "metadata": {},
   "source": [
    "## Data Preparation pipeline"
   ]
  },
  {
   "cell_type": "code",
   "execution_count": 16,
   "metadata": {},
   "outputs": [],
   "source": [
    "# New part of day binary variables\n",
    "hr_7_9 = (data['hr'] >= 7)&(data['hr'] < 10)\n",
    "hr_7_9.replace({False : 0, True :1}, inplace = True)\n",
    "\n",
    "hr_10_15 = (data['hr'] >= 10)&(data['hr'] < 16)\n",
    "hr_10_15.replace({False : 0, True :1}, inplace = True)\n",
    "\n",
    "hr_16_19 = (data['hr'] >= 16)&(data['hr'] < 20)\n",
    "hr_16_19.replace({False : 0, True :1}, inplace = True)\n",
    "\n",
    "hr_20_22 = (data['hr'] >= 20)&(data['hr'] < 23)\n",
    "hr_20_22.replace({False : 0, True :1}, inplace = True)\n",
    "\n",
    "hr_23_06 = (data['hr'] >= 23)|(data['hr'] < 7)\n",
    "hr_23_06.replace({False : 0, True :1}, inplace = True)"
   ]
  },
  {
   "cell_type": "code",
   "execution_count": 17,
   "metadata": {},
   "outputs": [],
   "source": [
    "# New Season binary variabels\n",
    "is_winter = (data['month'] == 1)|(data['month'] == 2)|(data['month'] == 12)\n",
    "is_winter.replace({False : 0, True :1}, inplace = True)\n",
    "\n",
    "is_spring = (data['month'] == 3)|(data['month'] == 4)|(data['month'] == 5)\n",
    "is_spring.replace({False : 0, True :1}, inplace = True)\n",
    "\n",
    "is_summer = (data['month'] == 6)|(data['month'] == 7)|(data['month'] == 8)\n",
    "is_summer.replace({False : 0, True :1}, inplace = True)\n",
    "\n",
    "is_fall = (data['month'] == 9)|(data['month'] == 10)|(data['month'] == 11)\n",
    "is_fall.replace({False : 0, True :1}, inplace = True)"
   ]
  },
  {
   "cell_type": "code",
   "execution_count": 18,
   "metadata": {},
   "outputs": [],
   "source": [
    "# Columns added to Dataset\n",
    "data['hr_7_9'] = hr_7_9\n",
    "data['hr_10_15'] = hr_10_15\n",
    "data['hr_16_19'] = hr_16_19\n",
    "data['hr_20_22'] = hr_20_22\n",
    "data['hr_23_06'] = hr_23_06\n",
    "data['is_winter'] = is_winter\n",
    "data['is_spring'] = is_spring\n",
    "data['is_summer'] = is_summer\n",
    "data['is_fall'] = is_fall"
   ]
  },
  {
   "cell_type": "code",
   "execution_count": 19,
   "metadata": {},
   "outputs": [],
   "source": [
    "# Weather binary encoded variables\n",
    "data = pd.get_dummies(data, columns=['weather'])"
   ]
  },
  {
   "cell_type": "code",
   "execution_count": 20,
   "metadata": {},
   "outputs": [
    {
     "name": "stdout",
     "output_type": "stream",
     "text": [
      "<class 'pandas.core.frame.DataFrame'>\n",
      "RangeIndex: 10427 entries, 0 to 10426\n",
      "Data columns (total 23 columns):\n",
      "year                 10427 non-null int64\n",
      "month                10427 non-null int64\n",
      "is_winter            10427 non-null int64\n",
      "is_spring            10427 non-null int64\n",
      "is_summer            10427 non-null int64\n",
      "is_fall              10427 non-null int64\n",
      "hr                   10427 non-null int64\n",
      "hr_7_9               10427 non-null int64\n",
      "hr_10_15             10427 non-null int64\n",
      "hr_16_19             10427 non-null int64\n",
      "hr_20_22             10427 non-null int64\n",
      "hr_23_06             10427 non-null int64\n",
      "holiday              10427 non-null int64\n",
      "workingday           10427 non-null int64\n",
      "weekday              10427 non-null int64\n",
      "weather_Cloudy       10427 non-null uint8\n",
      "weather_Clear        10427 non-null uint8\n",
      "weather_LightRain    10427 non-null uint8\n",
      "weather_Snow         10427 non-null uint8\n",
      "temperature          10427 non-null float64\n",
      "humidity             10427 non-null int64\n",
      "winds                10427 non-null float64\n",
      "occupancy            10427 non-null int64\n",
      "dtypes: float64(2), int64(17), uint8(4)\n",
      "memory usage: 1.6 MB\n",
      "None\n"
     ]
    }
   ],
   "source": [
    "# Dataset Clean \n",
    "data_clean = data[['year', 'month', 'is_winter','is_spring','is_summer','is_fall', # year, month and season \n",
    "                   'hr',\n",
    "                   'hr_7_9','hr_10_15','hr_16_19','hr_20_22','hr_23_06', # part of the day\n",
    "                   'holiday','workingday','weekday',  # type of day       \n",
    "                   'weather_Cloudy','weather_Clear','weather_LightRain','weather_Snow', # weather conditions\n",
    "                   'temperature','humidity','winds', # numerical variables\n",
    "                   'occupancy' # target\n",
    "                  ]]\n",
    "data_clean.head(5)\n",
    "print(data_clean.info())"
   ]
  },
  {
   "cell_type": "markdown",
   "metadata": {},
   "source": [
    "### Training & Test set"
   ]
  },
  {
   "cell_type": "code",
   "execution_count": 21,
   "metadata": {},
   "outputs": [],
   "source": [
    "# Divide the X matrix and target vector\n",
    "X = data_clean.drop('occupancy',axis = 1)\n",
    "y = data_clean['occupancy']"
   ]
  },
  {
   "cell_type": "code",
   "execution_count": 22,
   "metadata": {},
   "outputs": [],
   "source": [
    "# Splitting the dataset into the Training set and Test set\n",
    "X_train, X_test, y_train, y_test = train_test_split(X, y, test_size=0.20)"
   ]
  },
  {
   "cell_type": "code",
   "execution_count": 23,
   "metadata": {},
   "outputs": [
    {
     "name": "stdout",
     "output_type": "stream",
     "text": [
      "Training set X\n",
      "(8341, 22)\n",
      "Training set y\n",
      "(8341,)\n",
      "Test set X\n",
      "(2086, 22)\n",
      "Test set y\n",
      "(2086,)\n"
     ]
    }
   ],
   "source": [
    "# Check of numerosity\n",
    "print('Training set X')\n",
    "print(np.shape(X_train))\n",
    "print('Training set y')\n",
    "print(np.shape(y_train))\n",
    "print('Test set X')\n",
    "print(np.shape(X_test))\n",
    "print('Test set y')\n",
    "print(np.shape(y_test))"
   ]
  },
  {
   "cell_type": "markdown",
   "metadata": {},
   "source": [
    "### Model Selection"
   ]
  },
  {
   "cell_type": "markdown",
   "metadata": {},
   "source": [
    "First we train a baseline Linear Regression model and calculate the mean absolute error.\n",
    "The result is 84."
   ]
  },
  {
   "cell_type": "code",
   "execution_count": 24,
   "metadata": {},
   "outputs": [
    {
     "name": "stdout",
     "output_type": "stream",
     "text": [
      "***RESULTS***\n",
      "Best score: -83.296712 using {'copy_X': True, 'fit_intercept': True}\n",
      "-83.296712 (0.456439) with: {'copy_X': True, 'fit_intercept': True}\n",
      "-91.839813 (11.780492) with: {'copy_X': True, 'fit_intercept': False}\n",
      "-83.296712 (0.456439) with: {'copy_X': False, 'fit_intercept': True}\n",
      "-91.839813 (11.780492) with: {'copy_X': False, 'fit_intercept': False}\n"
     ]
    },
    {
     "data": {
      "text/plain": [
       "-83.17151238419234"
      ]
     },
     "execution_count": 24,
     "metadata": {},
     "output_type": "execute_result"
    }
   ],
   "source": [
    "# LINEAR REGRESSION MODEL \"lr\"\n",
    "\n",
    "regressor = LinearRegression() \n",
    "parameters = {'fit_intercept':[True,False], \n",
    "              'copy_X':[True, False]}\n",
    "\n",
    "# Optimization & Cross Validation\n",
    "gs_lr = GridSearchCV(regressor, parameters, cv=3 , scoring = 'neg_mean_absolute_error') \n",
    "gs_lr = gs_lr.fit(X_train,y_train)\n",
    "\n",
    "\n",
    "print('***RESULTS***')\n",
    "print(\"Best score: %f using %s\" % (gs_lr.best_score_, gs_lr.best_params_))\n",
    "means = gs_lr.cv_results_['mean_test_score']\n",
    "stds = gs_lr.cv_results_['std_test_score']\n",
    "params = gs_lr.cv_results_['params']\n",
    "for mean, stdev, param in zip(means, stds, params):\n",
    "    print(\"%f (%f) with: %r\" % (mean, stdev, param))\n",
    "\n",
    "# Test\n",
    "gs_lr.score(X_test, y_test)"
   ]
  },
  {
   "cell_type": "code",
   "execution_count": 25,
   "metadata": {},
   "outputs": [
    {
     "name": "stdout",
     "output_type": "stream",
     "text": [
      "MAE train:  83.07716713801784\n",
      "MAE test:  83.17151238419234\n"
     ]
    }
   ],
   "source": [
    "# Optimal Linear Regression\n",
    "regressor_opt = LinearRegression(copy_X = True, fit_intercept = True) \n",
    "lr = regressor_opt.fit(X_train,y_train)\n",
    "\n",
    "# Evaluation on Test Set via Mean Absolute Error\n",
    "print(\"MAE train: \", mean_absolute_error(y_train, lr.predict(X_train)))\n",
    "print(\"MAE test: \", mean_absolute_error(y_test, lr.predict(X_test)))"
   ]
  },
  {
   "cell_type": "markdown",
   "metadata": {},
   "source": [
    "We then train a random forest classifier, and do a hyperparameters optimization using the grid search."
   ]
  },
  {
   "cell_type": "code",
   "execution_count": 26,
   "metadata": {},
   "outputs": [
    {
     "name": "stdout",
     "output_type": "stream",
     "text": [
      "***RESULTS***\n",
      "Best score: -35.302961 using {'n_estimators': 100, 'min_samples_split': 5, 'min_samples_leaf': 10, 'max_features': 0.5, 'max_depth': 50, 'bootstrap': False}\n",
      "-35.302961 (0.697873) with: {'n_estimators': 100, 'min_samples_split': 5, 'min_samples_leaf': 10, 'max_features': 0.5, 'max_depth': 50, 'bootstrap': False}\n",
      "-57.550798 (0.943643) with: {'n_estimators': 100, 'min_samples_split': 100, 'min_samples_leaf': 10, 'max_features': 'sqrt', 'max_depth': None, 'bootstrap': True}\n",
      "-35.641453 (0.792790) with: {'n_estimators': 50, 'min_samples_split': 10, 'min_samples_leaf': 10, 'max_features': 0.5, 'max_depth': None, 'bootstrap': False}\n",
      "-52.102763 (1.405163) with: {'n_estimators': 10, 'min_samples_split': 2, 'min_samples_leaf': 10, 'max_features': 'log2', 'max_depth': 50, 'bootstrap': True}\n",
      "-71.776052 (1.128563) with: {'n_estimators': 10, 'min_samples_split': 10, 'min_samples_leaf': 1, 'max_features': 'sqrt', 'max_depth': 5, 'bootstrap': False}\n",
      "-65.873642 (0.875115) with: {'n_estimators': 100, 'min_samples_split': 100, 'min_samples_leaf': 50, 'max_features': 0.5, 'max_depth': 5, 'bootstrap': False}\n",
      "-67.470357 (1.998196) with: {'n_estimators': 10, 'min_samples_split': 2, 'min_samples_leaf': 100, 'max_features': 'sqrt', 'max_depth': 50, 'bootstrap': False}\n",
      "-58.298148 (1.695370) with: {'n_estimators': 10, 'min_samples_split': 100, 'min_samples_leaf': 50, 'max_features': 0.5, 'max_depth': None, 'bootstrap': True}\n",
      "-59.765088 (1.411188) with: {'n_estimators': 50, 'min_samples_split': 10, 'min_samples_leaf': 100, 'max_features': 0.5, 'max_depth': 10, 'bootstrap': False}\n",
      "-37.253258 (0.381045) with: {'n_estimators': 100, 'min_samples_split': 5, 'min_samples_leaf': 1, 'max_features': 0.5, 'max_depth': 10, 'bootstrap': True}\n",
      "-41.490771 (0.612419) with: {'n_estimators': 100, 'min_samples_split': 5, 'min_samples_leaf': 1, 'max_features': 'auto', 'max_depth': None, 'bootstrap': False}\n",
      "-35.641453 (0.792790) with: {'n_estimators': 50, 'min_samples_split': 2, 'min_samples_leaf': 10, 'max_features': 0.5, 'max_depth': None, 'bootstrap': False}\n",
      "-44.352989 (0.886136) with: {'n_estimators': 100, 'min_samples_split': 100, 'min_samples_leaf': 10, 'max_features': 0.5, 'max_depth': None, 'bootstrap': False}\n",
      "-64.844382 (0.509951) with: {'n_estimators': 50, 'min_samples_split': 10, 'min_samples_leaf': 100, 'max_features': 'sqrt', 'max_depth': None, 'bootstrap': False}\n",
      "-50.767846 (0.288942) with: {'n_estimators': 10, 'min_samples_split': 100, 'min_samples_leaf': 1, 'max_features': 'auto', 'max_depth': 50, 'bootstrap': True}\n",
      "-58.570198 (0.673076) with: {'n_estimators': 100, 'min_samples_split': 5, 'min_samples_leaf': 50, 'max_features': 'sqrt', 'max_depth': None, 'bootstrap': False}\n",
      "-58.909660 (0.958982) with: {'n_estimators': 100, 'min_samples_split': 100, 'min_samples_leaf': 50, 'max_features': 'log2', 'max_depth': 10, 'bootstrap': False}\n",
      "-36.939601 (0.693975) with: {'n_estimators': 50, 'min_samples_split': 5, 'min_samples_leaf': 1, 'max_features': 'sqrt', 'max_depth': 50, 'bootstrap': False}\n",
      "-43.189192 (0.278979) with: {'n_estimators': 10, 'min_samples_split': 10, 'min_samples_leaf': 10, 'max_features': 'auto', 'max_depth': 10, 'bootstrap': False}\n",
      "-61.144323 (0.177058) with: {'n_estimators': 10, 'min_samples_split': 5, 'min_samples_leaf': 50, 'max_features': 'sqrt', 'max_depth': None, 'bootstrap': False}\n"
     ]
    }
   ],
   "source": [
    "# RANDOM FOREST 'rf'\n",
    "\n",
    "regressor = RandomForestRegressor(random_state = 42 , criterion = 'mae')\n",
    "\n",
    "parameters = {# resampling with or withut repcement\n",
    "              'bootstrap': [True, False],\n",
    "              # Maximum number of levels in tree\n",
    "              'max_depth': [5, 10, 50, None],\n",
    "              # Number of features to consider at every split\n",
    "              'max_features': [0.5, 'log2', 'auto', 'sqrt'],\n",
    "              # Minimum number of samples required at each leaf node\n",
    "              'min_samples_leaf': [1, 10, 50, 100],\n",
    "              # Minimum number of samples required to split a node\n",
    "              'min_samples_split': [2, 5, 10, 100],\n",
    "              # Number of trees in random forest\n",
    "              'n_estimators': [10, 50, 100]}\n",
    " \n",
    "gs_rf = RandomizedSearchCV(regressor, parameters, cv=3, n_iter = 20, scoring = 'neg_mean_absolute_error', n_jobs = 20 ) \n",
    "gs_rf = gs_rf.fit(X_train,y_train)\n",
    "\n",
    "print('***RESULTS***')\n",
    "print(\"Best score: %f using %s\" % (gs_rf.best_score_, gs_rf.best_params_))\n",
    "means = gs_rf.cv_results_['mean_test_score']\n",
    "stds = gs_rf.cv_results_['std_test_score']\n",
    "params = gs_rf.cv_results_['params']\n",
    "for mean, stdev, param in zip(means, stds, params):\n",
    "    print(\"%f (%f) with: %r\" % (mean, stdev, param))"
   ]
  },
  {
   "cell_type": "markdown",
   "metadata": {},
   "source": [
    "### Optimal Model\n",
    "The model with best performance in terms of MAE is a Random Forest Regressor with the following parameters:"
   ]
  },
  {
   "cell_type": "code",
   "execution_count": 27,
   "metadata": {
    "scrolled": true
   },
   "outputs": [
    {
     "data": {
      "text/plain": [
       "{'n_estimators': 100,\n",
       " 'min_samples_split': 5,\n",
       " 'min_samples_leaf': 10,\n",
       " 'max_features': 0.5,\n",
       " 'max_depth': 50,\n",
       " 'bootstrap': False}"
      ]
     },
     "execution_count": 27,
     "metadata": {},
     "output_type": "execute_result"
    }
   ],
   "source": [
    "gs_params = gs_rf.best_params_ \n",
    "gs_params"
   ]
  },
  {
   "cell_type": "code",
   "execution_count": 28,
   "metadata": {},
   "outputs": [
    {
     "name": "stdout",
     "output_type": "stream",
     "text": [
      "MAE train:  25.932125644407144\n",
      "MAE test:  31.987739693192715\n"
     ]
    }
   ],
   "source": [
    "# Optimal Random Forest\n",
    "random_opt = RandomForestRegressor(n_estimators = gs_params['n_estimators'],\n",
    "                                  min_samples_split = gs_params['min_samples_split'],\n",
    "                                  min_samples_leaf = gs_params['min_samples_leaf'],\n",
    "                                  max_features = gs_params['max_features'],\n",
    "                                  max_depth = gs_params['max_depth'],\n",
    "                                  bootstrap = gs_params['bootstrap'],\n",
    "                                  criterion = 'mae')\n",
    "    \n",
    "rf = random_opt.fit(X_train,y_train)\n",
    "\n",
    "# Evaluation on Test Set via Mean Absolute Error\n",
    "\n",
    "print(\"MAE train: \", mean_absolute_error(y_train, rf.predict(X_train)))\n",
    "print(\"MAE test: \", mean_absolute_error(y_test, rf.predict(X_test)))"
   ]
  },
  {
   "cell_type": "markdown",
   "metadata": {},
   "source": [
    "Random forest regressor has a signficant lower Mean Absolute Error compared to baseline model.<br>\n",
    "Since there is a narrow range of values between \"Train\" and \"Test\" _mae_, we can conclude that the model is not overfitting data."
   ]
  },
  {
   "cell_type": "markdown",
   "metadata": {},
   "source": [
    "### Model Interpretation"
   ]
  },
  {
   "cell_type": "code",
   "execution_count": 29,
   "metadata": {},
   "outputs": [
    {
     "data": {
      "text/plain": [
       "<matplotlib.axes._subplots.AxesSubplot at 0x201513ce828>"
      ]
     },
     "execution_count": 29,
     "metadata": {},
     "output_type": "execute_result"
    },
    {
     "data": {
      "image/png": "[encoded data removed]",
      "text/plain": [
       "<Figure size 1080x720 with 1 Axes>"
      ]
     },
     "metadata": {
      "needs_background": "light"
     },
     "output_type": "display_data"
    }
   ],
   "source": [
    "# Feature Importance\n",
    "feature_importances = pd.DataFrame(rf.feature_importances_,\n",
    "                                   index = X_train.columns,\n",
    "                                   columns=['importance']).sort_values('importance', ascending=True)\n",
    "# Plot Horizontal Bars\n",
    "feature_importances.plot(kind = 'barh',\n",
    "                        figsize = (15,10),\n",
    "                        title = 'Random Forest Regression - Variable Importance',\n",
    "                        legend = False)"
   ]
  },
  {
   "cell_type": "markdown",
   "metadata": {},
   "source": [
    "### TOP Random Forest Variables\n",
    "The top 5 more relevant variables in the Random Forest model are :\n",
    "\n",
    "    - \"HR\", since there are some peak hours.\n",
    "    - \"hr_23_06\", night time, when the occupancy is lower.\n",
    "    - \"temperature\", external temperature is positively correlated to the occupancy of the library.\n",
    "    - \"hr_16_09\", the afternoon time, when the occupancy is higher.\n",
    "    - \"year\", due to the yearly increase of the occupancy in the library."
   ]
  },
  {
   "cell_type": "markdown",
   "metadata": {},
   "source": [
    "## Validation"
   ]
  },
  {
   "cell_type": "code",
   "execution_count": 57,
   "metadata": {},
   "outputs": [
    {
     "data": {
      "text/html": [
       "<div>\n",
       "<style scoped>\n",
       "    .dataframe tbody tr th:only-of-type {\n",
       "        vertical-align: middle;\n",
       "    }\n",
       "\n",
       "    .dataframe tbody tr th {\n",
       "        vertical-align: top;\n",
       "    }\n",
       "\n",
       "    .dataframe thead th {\n",
       "        text-align: right;\n",
       "    }\n",
       "</style>\n",
       "<table border=\"1\" class=\"dataframe\">\n",
       "  <thead>\n",
       "    <tr style=\"text-align: right;\">\n",
       "      <th></th>\n",
       "      <th>Unnamed: 0</th>\n",
       "      <th>dteday</th>\n",
       "      <th>hr</th>\n",
       "      <th>holiday</th>\n",
       "      <th>weekday</th>\n",
       "      <th>workingday</th>\n",
       "      <th>season_t</th>\n",
       "      <th>weather</th>\n",
       "      <th>temperature</th>\n",
       "      <th>s_temp</th>\n",
       "      <th>humidity</th>\n",
       "      <th>winds</th>\n",
       "      <th>n_employee</th>\n",
       "      <th>exp_employee</th>\n",
       "    </tr>\n",
       "  </thead>\n",
       "  <tbody>\n",
       "    <tr>\n",
       "      <th>0</th>\n",
       "      <td>0</td>\n",
       "      <td>2012-06-23</td>\n",
       "      <td>19</td>\n",
       "      <td>0</td>\n",
       "      <td>6</td>\n",
       "      <td>0</td>\n",
       "      <td>fall</td>\n",
       "      <td>Clear</td>\n",
       "      <td>32.80</td>\n",
       "      <td>34.850</td>\n",
       "      <td>27</td>\n",
       "      <td>13.0</td>\n",
       "      <td>2.67</td>\n",
       "      <td>1.14</td>\n",
       "    </tr>\n",
       "    <tr>\n",
       "      <th>1</th>\n",
       "      <td>1</td>\n",
       "      <td>2012-01-02</td>\n",
       "      <td>20</td>\n",
       "      <td>1</td>\n",
       "      <td>1</td>\n",
       "      <td>0</td>\n",
       "      <td>spring</td>\n",
       "      <td>Clear</td>\n",
       "      <td>9.84</td>\n",
       "      <td>11.365</td>\n",
       "      <td>41</td>\n",
       "      <td>15.0</td>\n",
       "      <td>2.67</td>\n",
       "      <td>20.00</td>\n",
       "    </tr>\n",
       "    <tr>\n",
       "      <th>2</th>\n",
       "      <td>2</td>\n",
       "      <td>2011-10-28</td>\n",
       "      <td>2</td>\n",
       "      <td>0</td>\n",
       "      <td>5</td>\n",
       "      <td>1</td>\n",
       "      <td>winter</td>\n",
       "      <td>Clear</td>\n",
       "      <td>13.12</td>\n",
       "      <td>15.150</td>\n",
       "      <td>66</td>\n",
       "      <td>19.0</td>\n",
       "      <td>2.00</td>\n",
       "      <td>28.86</td>\n",
       "    </tr>\n",
       "    <tr>\n",
       "      <th>3</th>\n",
       "      <td>3</td>\n",
       "      <td>2012-05-29</td>\n",
       "      <td>19</td>\n",
       "      <td>0</td>\n",
       "      <td>2</td>\n",
       "      <td>1</td>\n",
       "      <td>summer</td>\n",
       "      <td>Clear</td>\n",
       "      <td>31.98</td>\n",
       "      <td>35.605</td>\n",
       "      <td>52</td>\n",
       "      <td>24.0</td>\n",
       "      <td>2.00</td>\n",
       "      <td>2.29</td>\n",
       "    </tr>\n",
       "    <tr>\n",
       "      <th>4</th>\n",
       "      <td>4</td>\n",
       "      <td>2011-01-20</td>\n",
       "      <td>0</td>\n",
       "      <td>0</td>\n",
       "      <td>4</td>\n",
       "      <td>1</td>\n",
       "      <td>spring</td>\n",
       "      <td>Clear</td>\n",
       "      <td>10.66</td>\n",
       "      <td>11.365</td>\n",
       "      <td>56</td>\n",
       "      <td>26.0</td>\n",
       "      <td>3.00</td>\n",
       "      <td>16.43</td>\n",
       "    </tr>\n",
       "  </tbody>\n",
       "</table>\n",
       "</div>"
      ],
      "text/plain": [
       "   Unnamed: 0      dteday  hr  holiday  weekday  workingday season_t weather  \\\n",
       "0           0  2012-06-23  19        0        6           0     fall   Clear   \n",
       "1           1  2012-01-02  20        1        1           0   spring   Clear   \n",
       "2           2  2011-10-28   2        0        5           1   winter   Clear   \n",
       "3           3  2012-05-29  19        0        2           1   summer   Clear   \n",
       "4           4  2011-01-20   0        0        4           1   spring   Clear   \n",
       "\n",
       "   temperature  s_temp  humidity  winds  n_employee  exp_employee  \n",
       "0        32.80  34.850        27   13.0        2.67          1.14  \n",
       "1         9.84  11.365        41   15.0        2.67         20.00  \n",
       "2        13.12  15.150        66   19.0        2.00         28.86  \n",
       "3        31.98  35.605        52   24.0        2.00          2.29  \n",
       "4        10.66  11.365        56   26.0        3.00         16.43  "
      ]
     },
     "execution_count": 57,
     "metadata": {},
     "output_type": "execute_result"
    }
   ],
   "source": [
    "# Loading the validation set with pandas\n",
    "\n",
    "dir = %pwd\n",
    "validation = pd.read_csv('{}\\\\test_explanatory.csv'.format(dir))\n",
    "validation.head(5)"
   ]
  },
  {
   "cell_type": "code",
   "execution_count": 58,
   "metadata": {},
   "outputs": [
    {
     "name": "stdout",
     "output_type": "stream",
     "text": [
      "Original columns :\n",
      " ['Unnamed: 0', 'dteday', 'hr', 'holiday', 'weekday', 'workingday', 'season_t', 'weather', 'temperature', 's_temp', 'humidity', 'winds', 'n_employee', 'exp_employee']\n"
     ]
    }
   ],
   "source": [
    "# __0 - Removing Index Column __\n",
    "\n",
    "print('Original columns :\\n' , list(validation.columns))\n",
    "\n",
    "#[year', 'month', 'is_winter','is_spring','is_summer','is_fall', # year, month and season \n",
    "#'hr',\n",
    "#'hr_7_9','hr_10_15','hr_16_19','hr_20_22','hr_23_06', # part of the day\n",
    "#'holiday','workingday','weekday',  # type of day       \n",
    "#'weather_Cloudy','weather_Clear','weather_LightRain','weather_Snow', # weather conditions\n",
    "#'temperature','humidity','winds', # numerical variables\n",
    "#'occupancy' # target\n",
    "#]"
   ]
  },
  {
   "cell_type": "code",
   "execution_count": 59,
   "metadata": {},
   "outputs": [],
   "source": [
    "validation.drop('Unnamed: 0', axis = 1, inplace= True)"
   ]
  },
  {
   "cell_type": "code",
   "execution_count": 60,
   "metadata": {},
   "outputs": [
    {
     "data": {
      "text/html": [
       "<div>\n",
       "<style scoped>\n",
       "    .dataframe tbody tr th:only-of-type {\n",
       "        vertical-align: middle;\n",
       "    }\n",
       "\n",
       "    .dataframe tbody tr th {\n",
       "        vertical-align: top;\n",
       "    }\n",
       "\n",
       "    .dataframe thead th {\n",
       "        text-align: right;\n",
       "    }\n",
       "</style>\n",
       "<table border=\"1\" class=\"dataframe\">\n",
       "  <thead>\n",
       "    <tr style=\"text-align: right;\">\n",
       "      <th></th>\n",
       "      <th>dteday</th>\n",
       "      <th>hr</th>\n",
       "      <th>holiday</th>\n",
       "      <th>weekday</th>\n",
       "      <th>workingday</th>\n",
       "      <th>season_t</th>\n",
       "      <th>weather</th>\n",
       "      <th>temperature</th>\n",
       "      <th>s_temp</th>\n",
       "      <th>humidity</th>\n",
       "      <th>winds</th>\n",
       "      <th>n_employee</th>\n",
       "      <th>exp_employee</th>\n",
       "    </tr>\n",
       "  </thead>\n",
       "  <tbody>\n",
       "    <tr>\n",
       "      <th>0</th>\n",
       "      <td>2012-06-23</td>\n",
       "      <td>19</td>\n",
       "      <td>0</td>\n",
       "      <td>6</td>\n",
       "      <td>0</td>\n",
       "      <td>fall</td>\n",
       "      <td>Clear</td>\n",
       "      <td>32.80</td>\n",
       "      <td>34.850</td>\n",
       "      <td>27</td>\n",
       "      <td>13.0</td>\n",
       "      <td>2.67</td>\n",
       "      <td>1.14</td>\n",
       "    </tr>\n",
       "    <tr>\n",
       "      <th>1</th>\n",
       "      <td>2012-01-02</td>\n",
       "      <td>20</td>\n",
       "      <td>1</td>\n",
       "      <td>1</td>\n",
       "      <td>0</td>\n",
       "      <td>spring</td>\n",
       "      <td>Clear</td>\n",
       "      <td>9.84</td>\n",
       "      <td>11.365</td>\n",
       "      <td>41</td>\n",
       "      <td>15.0</td>\n",
       "      <td>2.67</td>\n",
       "      <td>20.00</td>\n",
       "    </tr>\n",
       "    <tr>\n",
       "      <th>2</th>\n",
       "      <td>2011-10-28</td>\n",
       "      <td>2</td>\n",
       "      <td>0</td>\n",
       "      <td>5</td>\n",
       "      <td>1</td>\n",
       "      <td>winter</td>\n",
       "      <td>Clear</td>\n",
       "      <td>13.12</td>\n",
       "      <td>15.150</td>\n",
       "      <td>66</td>\n",
       "      <td>19.0</td>\n",
       "      <td>2.00</td>\n",
       "      <td>28.86</td>\n",
       "    </tr>\n",
       "    <tr>\n",
       "      <th>3</th>\n",
       "      <td>2012-05-29</td>\n",
       "      <td>19</td>\n",
       "      <td>0</td>\n",
       "      <td>2</td>\n",
       "      <td>1</td>\n",
       "      <td>summer</td>\n",
       "      <td>Clear</td>\n",
       "      <td>31.98</td>\n",
       "      <td>35.605</td>\n",
       "      <td>52</td>\n",
       "      <td>24.0</td>\n",
       "      <td>2.00</td>\n",
       "      <td>2.29</td>\n",
       "    </tr>\n",
       "    <tr>\n",
       "      <th>4</th>\n",
       "      <td>2011-01-20</td>\n",
       "      <td>0</td>\n",
       "      <td>0</td>\n",
       "      <td>4</td>\n",
       "      <td>1</td>\n",
       "      <td>spring</td>\n",
       "      <td>Clear</td>\n",
       "      <td>10.66</td>\n",
       "      <td>11.365</td>\n",
       "      <td>56</td>\n",
       "      <td>26.0</td>\n",
       "      <td>3.00</td>\n",
       "      <td>16.43</td>\n",
       "    </tr>\n",
       "  </tbody>\n",
       "</table>\n",
       "</div>"
      ],
      "text/plain": [
       "       dteday  hr  holiday  weekday  workingday season_t weather  temperature  \\\n",
       "0  2012-06-23  19        0        6           0     fall   Clear        32.80   \n",
       "1  2012-01-02  20        1        1           0   spring   Clear         9.84   \n",
       "2  2011-10-28   2        0        5           1   winter   Clear        13.12   \n",
       "3  2012-05-29  19        0        2           1   summer   Clear        31.98   \n",
       "4  2011-01-20   0        0        4           1   spring   Clear        10.66   \n",
       "\n",
       "   s_temp  humidity  winds  n_employee  exp_employee  \n",
       "0  34.850        27   13.0        2.67          1.14  \n",
       "1  11.365        41   15.0        2.67         20.00  \n",
       "2  15.150        66   19.0        2.00         28.86  \n",
       "3  35.605        52   24.0        2.00          2.29  \n",
       "4  11.365        56   26.0        3.00         16.43  "
      ]
     },
     "execution_count": 60,
     "metadata": {},
     "output_type": "execute_result"
    }
   ],
   "source": [
    "validation.head(5)"
   ]
  },
  {
   "cell_type": "code",
   "execution_count": 61,
   "metadata": {},
   "outputs": [],
   "source": [
    "# Convert date type\n",
    "validation['dteday'] = pd.to_datetime(validation['dteday'], format='%Y-%m-%d')"
   ]
  },
  {
   "cell_type": "code",
   "execution_count": 62,
   "metadata": {},
   "outputs": [],
   "source": [
    "# __1 - Add an Year and Month Colums __ \n",
    "year = validation['dteday'].dt.year\n",
    "validation['year'] = year\n",
    "month = validation['dteday'].dt.month\n",
    "validation['month'] = month"
   ]
  },
  {
   "cell_type": "code",
   "execution_count": 63,
   "metadata": {},
   "outputs": [
    {
     "data": {
      "text/html": [
       "<div>\n",
       "<style scoped>\n",
       "    .dataframe tbody tr th:only-of-type {\n",
       "        vertical-align: middle;\n",
       "    }\n",
       "\n",
       "    .dataframe tbody tr th {\n",
       "        vertical-align: top;\n",
       "    }\n",
       "\n",
       "    .dataframe thead th {\n",
       "        text-align: right;\n",
       "    }\n",
       "</style>\n",
       "<table border=\"1\" class=\"dataframe\">\n",
       "  <thead>\n",
       "    <tr style=\"text-align: right;\">\n",
       "      <th></th>\n",
       "      <th>dteday</th>\n",
       "      <th>hr</th>\n",
       "      <th>holiday</th>\n",
       "      <th>weekday</th>\n",
       "      <th>workingday</th>\n",
       "      <th>season_t</th>\n",
       "      <th>weather</th>\n",
       "      <th>temperature</th>\n",
       "      <th>s_temp</th>\n",
       "      <th>humidity</th>\n",
       "      <th>winds</th>\n",
       "      <th>n_employee</th>\n",
       "      <th>exp_employee</th>\n",
       "      <th>year</th>\n",
       "      <th>month</th>\n",
       "    </tr>\n",
       "  </thead>\n",
       "  <tbody>\n",
       "    <tr>\n",
       "      <th>0</th>\n",
       "      <td>2012-06-23</td>\n",
       "      <td>19</td>\n",
       "      <td>0</td>\n",
       "      <td>6</td>\n",
       "      <td>0</td>\n",
       "      <td>fall</td>\n",
       "      <td>Clear</td>\n",
       "      <td>32.80</td>\n",
       "      <td>34.850</td>\n",
       "      <td>27</td>\n",
       "      <td>13.0</td>\n",
       "      <td>2.67</td>\n",
       "      <td>1.14</td>\n",
       "      <td>2012</td>\n",
       "      <td>6</td>\n",
       "    </tr>\n",
       "    <tr>\n",
       "      <th>1</th>\n",
       "      <td>2012-01-02</td>\n",
       "      <td>20</td>\n",
       "      <td>1</td>\n",
       "      <td>1</td>\n",
       "      <td>0</td>\n",
       "      <td>spring</td>\n",
       "      <td>Clear</td>\n",
       "      <td>9.84</td>\n",
       "      <td>11.365</td>\n",
       "      <td>41</td>\n",
       "      <td>15.0</td>\n",
       "      <td>2.67</td>\n",
       "      <td>20.00</td>\n",
       "      <td>2012</td>\n",
       "      <td>1</td>\n",
       "    </tr>\n",
       "    <tr>\n",
       "      <th>2</th>\n",
       "      <td>2011-10-28</td>\n",
       "      <td>2</td>\n",
       "      <td>0</td>\n",
       "      <td>5</td>\n",
       "      <td>1</td>\n",
       "      <td>winter</td>\n",
       "      <td>Clear</td>\n",
       "      <td>13.12</td>\n",
       "      <td>15.150</td>\n",
       "      <td>66</td>\n",
       "      <td>19.0</td>\n",
       "      <td>2.00</td>\n",
       "      <td>28.86</td>\n",
       "      <td>2011</td>\n",
       "      <td>10</td>\n",
       "    </tr>\n",
       "    <tr>\n",
       "      <th>3</th>\n",
       "      <td>2012-05-29</td>\n",
       "      <td>19</td>\n",
       "      <td>0</td>\n",
       "      <td>2</td>\n",
       "      <td>1</td>\n",
       "      <td>summer</td>\n",
       "      <td>Clear</td>\n",
       "      <td>31.98</td>\n",
       "      <td>35.605</td>\n",
       "      <td>52</td>\n",
       "      <td>24.0</td>\n",
       "      <td>2.00</td>\n",
       "      <td>2.29</td>\n",
       "      <td>2012</td>\n",
       "      <td>5</td>\n",
       "    </tr>\n",
       "    <tr>\n",
       "      <th>4</th>\n",
       "      <td>2011-01-20</td>\n",
       "      <td>0</td>\n",
       "      <td>0</td>\n",
       "      <td>4</td>\n",
       "      <td>1</td>\n",
       "      <td>spring</td>\n",
       "      <td>Clear</td>\n",
       "      <td>10.66</td>\n",
       "      <td>11.365</td>\n",
       "      <td>56</td>\n",
       "      <td>26.0</td>\n",
       "      <td>3.00</td>\n",
       "      <td>16.43</td>\n",
       "      <td>2011</td>\n",
       "      <td>1</td>\n",
       "    </tr>\n",
       "  </tbody>\n",
       "</table>\n",
       "</div>"
      ],
      "text/plain": [
       "      dteday  hr  holiday  weekday  workingday season_t weather  temperature  \\\n",
       "0 2012-06-23  19        0        6           0     fall   Clear        32.80   \n",
       "1 2012-01-02  20        1        1           0   spring   Clear         9.84   \n",
       "2 2011-10-28   2        0        5           1   winter   Clear        13.12   \n",
       "3 2012-05-29  19        0        2           1   summer   Clear        31.98   \n",
       "4 2011-01-20   0        0        4           1   spring   Clear        10.66   \n",
       "\n",
       "   s_temp  humidity  winds  n_employee  exp_employee  year  month  \n",
       "0  34.850        27   13.0        2.67          1.14  2012      6  \n",
       "1  11.365        41   15.0        2.67         20.00  2012      1  \n",
       "2  15.150        66   19.0        2.00         28.86  2011     10  \n",
       "3  35.605        52   24.0        2.00          2.29  2012      5  \n",
       "4  11.365        56   26.0        3.00         16.43  2011      1  "
      ]
     },
     "execution_count": 63,
     "metadata": {},
     "output_type": "execute_result"
    }
   ],
   "source": [
    "validation.head(5)"
   ]
  },
  {
   "cell_type": "code",
   "execution_count": 64,
   "metadata": {},
   "outputs": [],
   "source": [
    "# __2 - Divide Hours in bins__ \n",
    "\n",
    "hr_7_9 = (validation['hr'] >= 7)&(validation['hr'] < 10)\n",
    "hr_7_9.replace({False : 0, True :1}, inplace = True)\n",
    "\n",
    "hr_10_15 = (validation['hr'] >= 10)&(validation['hr'] < 16)\n",
    "hr_10_15.replace({False : 0, True :1}, inplace = True)\n",
    "\n",
    "hr_16_19 = (validation['hr'] >= 16)&(validation['hr'] < 20)\n",
    "hr_16_19.replace({False : 0, True :1}, inplace = True)\n",
    "\n",
    "hr_20_22 = (validation['hr'] >= 20)&(validation['hr'] < 23)\n",
    "hr_20_22.replace({False : 0, True :1}, inplace = True)\n",
    "\n",
    "hr_23_06 = (validation['hr'] >= 23)|(validation['hr'] < 7)\n",
    "hr_23_06.replace({False : 0, True :1}, inplace = True)"
   ]
  },
  {
   "cell_type": "code",
   "execution_count": 65,
   "metadata": {},
   "outputs": [],
   "source": [
    "#__3 - Create 4 new season binary variables__ \n",
    "\n",
    "is_winter = (validation['month'] == 1)|(validation['month'] == 2)|(validation['month'] == 12)\n",
    "is_winter.replace({False : 0, True :1}, inplace = True)\n",
    "\n",
    "is_spring = (validation['month'] == 3)|(validation['month'] == 4)|(validation['month'] == 5)\n",
    "is_spring.replace({False : 0, True :1}, inplace = True)\n",
    "\n",
    "is_summer = (validation['month'] == 6)|(validation['month'] == 7)|(validation['month'] == 8)\n",
    "is_summer.replace({False : 0, True :1}, inplace = True)\n",
    "\n",
    "is_fall = (validation['month'] == 9)|(validation['month'] == 10)|(validation['month'] == 11)\n",
    "is_fall.replace({False : 0, True :1}, inplace = True)"
   ]
  },
  {
   "cell_type": "code",
   "execution_count": 66,
   "metadata": {},
   "outputs": [],
   "source": [
    "# Columns added to Dataset\n",
    "\n",
    "validation['hr_7_9'] = hr_7_9\n",
    "validation['hr_10_15'] = hr_10_15\n",
    "validation['hr_16_19'] = hr_16_19\n",
    "validation['hr_20_22'] = hr_20_22\n",
    "validation['hr_23_06'] = hr_23_06\n",
    "validation['is_winter'] = is_winter\n",
    "validation['is_spring'] = is_spring\n",
    "validation['is_summer'] = is_summer\n",
    "validation['is_fall'] = is_fall"
   ]
  },
  {
   "cell_type": "code",
   "execution_count": 67,
   "metadata": {},
   "outputs": [],
   "source": [
    "#__4 - Drop perceived temperature \"s_temp\"__ \n",
    "#__5 - One hot encode Weather variable__\n",
    "validation = pd.get_dummies(validation, columns=['weather'])"
   ]
  },
  {
   "cell_type": "code",
   "execution_count": 71,
   "metadata": {},
   "outputs": [
    {
     "name": "stdout",
     "output_type": "stream",
     "text": [
      "<class 'pandas.core.frame.DataFrame'>\n",
      "RangeIndex: 6952 entries, 0 to 6951\n",
      "Data columns (total 22 columns):\n",
      "year                 6952 non-null int64\n",
      "month                6952 non-null int64\n",
      "is_winter            6952 non-null int64\n",
      "is_spring            6952 non-null int64\n",
      "is_summer            6952 non-null int64\n",
      "is_fall              6952 non-null int64\n",
      "hr                   6952 non-null int64\n",
      "hr_7_9               6952 non-null int64\n",
      "hr_10_15             6952 non-null int64\n",
      "hr_16_19             6952 non-null int64\n",
      "hr_20_22             6952 non-null int64\n",
      "hr_23_06             6952 non-null int64\n",
      "holiday              6952 non-null int64\n",
      "workingday           6952 non-null int64\n",
      "weekday              6952 non-null int64\n",
      "weather_Cloudy       6952 non-null uint8\n",
      "weather_Clear        6952 non-null uint8\n",
      "weather_LightRain    6952 non-null uint8\n",
      "weather_Snow         6952 non-null uint8\n",
      "temperature          6952 non-null float64\n",
      "humidity             6952 non-null int64\n",
      "winds                6952 non-null float64\n",
      "dtypes: float64(2), int64(16), uint8(4)\n",
      "memory usage: 1004.9 KB\n",
      "None\n"
     ]
    }
   ],
   "source": [
    "# Validation Clean \n",
    "validation_clean = validation[['year', 'month', 'is_winter','is_spring','is_summer','is_fall', # year, month and season \n",
    "                   'hr',\n",
    "                   'hr_7_9','hr_10_15','hr_16_19','hr_20_22','hr_23_06', # part of the day\n",
    "                   'holiday','workingday','weekday',  # type of day       \n",
    "                   'weather_Cloudy','weather_Clear','weather_LightRain','weather_Snow', # weather conditions\n",
    "                   'temperature','humidity','winds' \n",
    "                  ]]\n",
    "validation_clean.head(5)\n",
    "print(validation_clean.info())"
   ]
  },
  {
   "cell_type": "code",
   "execution_count": 72,
   "metadata": {},
   "outputs": [],
   "source": [
    "# Prediction\n",
    "target = random_opt.predict(validation_clean)"
   ]
  },
  {
   "cell_type": "code",
   "execution_count": 77,
   "metadata": {},
   "outputs": [
    {
     "data": {
      "text/plain": [
       "6952"
      ]
     },
     "execution_count": 77,
     "metadata": {},
     "output_type": "execute_result"
    }
   ],
   "source": [
    "len(target)\n",
    "#len(validation)"
   ]
  },
  {
   "cell_type": "code",
   "execution_count": 78,
   "metadata": {},
   "outputs": [
    {
     "data": {
      "text/html": [
       "<div>\n",
       "<style scoped>\n",
       "    .dataframe tbody tr th:only-of-type {\n",
       "        vertical-align: middle;\n",
       "    }\n",
       "\n",
       "    .dataframe tbody tr th {\n",
       "        vertical-align: top;\n",
       "    }\n",
       "\n",
       "    .dataframe thead th {\n",
       "        text-align: right;\n",
       "    }\n",
       "</style>\n",
       "<table border=\"1\" class=\"dataframe\">\n",
       "  <thead>\n",
       "    <tr style=\"text-align: right;\">\n",
       "      <th></th>\n",
       "      <th>target</th>\n",
       "    </tr>\n",
       "  </thead>\n",
       "  <tbody>\n",
       "    <tr>\n",
       "      <th>0</th>\n",
       "      <td>425.055</td>\n",
       "    </tr>\n",
       "    <tr>\n",
       "      <th>1</th>\n",
       "      <td>103.785</td>\n",
       "    </tr>\n",
       "    <tr>\n",
       "      <th>2</th>\n",
       "      <td>9.585</td>\n",
       "    </tr>\n",
       "    <tr>\n",
       "      <th>3</th>\n",
       "      <td>526.940</td>\n",
       "    </tr>\n",
       "    <tr>\n",
       "      <th>4</th>\n",
       "      <td>12.865</td>\n",
       "    </tr>\n",
       "    <tr>\n",
       "      <th>5</th>\n",
       "      <td>31.470</td>\n",
       "    </tr>\n",
       "    <tr>\n",
       "      <th>6</th>\n",
       "      <td>755.235</td>\n",
       "    </tr>\n",
       "    <tr>\n",
       "      <th>7</th>\n",
       "      <td>143.885</td>\n",
       "    </tr>\n",
       "    <tr>\n",
       "      <th>8</th>\n",
       "      <td>8.890</td>\n",
       "    </tr>\n",
       "    <tr>\n",
       "      <th>9</th>\n",
       "      <td>25.470</td>\n",
       "    </tr>\n",
       "    <tr>\n",
       "      <th>10</th>\n",
       "      <td>24.565</td>\n",
       "    </tr>\n",
       "    <tr>\n",
       "      <th>11</th>\n",
       "      <td>127.715</td>\n",
       "    </tr>\n",
       "    <tr>\n",
       "      <th>12</th>\n",
       "      <td>556.350</td>\n",
       "    </tr>\n",
       "    <tr>\n",
       "      <th>13</th>\n",
       "      <td>7.175</td>\n",
       "    </tr>\n",
       "    <tr>\n",
       "      <th>14</th>\n",
       "      <td>326.490</td>\n",
       "    </tr>\n",
       "    <tr>\n",
       "      <th>15</th>\n",
       "      <td>126.785</td>\n",
       "    </tr>\n",
       "    <tr>\n",
       "      <th>16</th>\n",
       "      <td>145.315</td>\n",
       "    </tr>\n",
       "    <tr>\n",
       "      <th>17</th>\n",
       "      <td>315.560</td>\n",
       "    </tr>\n",
       "    <tr>\n",
       "      <th>18</th>\n",
       "      <td>34.480</td>\n",
       "    </tr>\n",
       "    <tr>\n",
       "      <th>19</th>\n",
       "      <td>760.780</td>\n",
       "    </tr>\n",
       "    <tr>\n",
       "      <th>20</th>\n",
       "      <td>9.785</td>\n",
       "    </tr>\n",
       "    <tr>\n",
       "      <th>21</th>\n",
       "      <td>144.075</td>\n",
       "    </tr>\n",
       "    <tr>\n",
       "      <th>22</th>\n",
       "      <td>118.865</td>\n",
       "    </tr>\n",
       "    <tr>\n",
       "      <th>23</th>\n",
       "      <td>126.235</td>\n",
       "    </tr>\n",
       "    <tr>\n",
       "      <th>24</th>\n",
       "      <td>128.700</td>\n",
       "    </tr>\n",
       "    <tr>\n",
       "      <th>25</th>\n",
       "      <td>127.855</td>\n",
       "    </tr>\n",
       "    <tr>\n",
       "      <th>26</th>\n",
       "      <td>13.130</td>\n",
       "    </tr>\n",
       "    <tr>\n",
       "      <th>27</th>\n",
       "      <td>168.770</td>\n",
       "    </tr>\n",
       "    <tr>\n",
       "      <th>28</th>\n",
       "      <td>6.485</td>\n",
       "    </tr>\n",
       "    <tr>\n",
       "      <th>29</th>\n",
       "      <td>81.465</td>\n",
       "    </tr>\n",
       "    <tr>\n",
       "      <th>...</th>\n",
       "      <td>...</td>\n",
       "    </tr>\n",
       "    <tr>\n",
       "      <th>6922</th>\n",
       "      <td>102.145</td>\n",
       "    </tr>\n",
       "    <tr>\n",
       "      <th>6923</th>\n",
       "      <td>223.565</td>\n",
       "    </tr>\n",
       "    <tr>\n",
       "      <th>6924</th>\n",
       "      <td>18.220</td>\n",
       "    </tr>\n",
       "    <tr>\n",
       "      <th>6925</th>\n",
       "      <td>13.070</td>\n",
       "    </tr>\n",
       "    <tr>\n",
       "      <th>6926</th>\n",
       "      <td>122.805</td>\n",
       "    </tr>\n",
       "    <tr>\n",
       "      <th>6927</th>\n",
       "      <td>352.725</td>\n",
       "    </tr>\n",
       "    <tr>\n",
       "      <th>6928</th>\n",
       "      <td>384.400</td>\n",
       "    </tr>\n",
       "    <tr>\n",
       "      <th>6929</th>\n",
       "      <td>256.645</td>\n",
       "    </tr>\n",
       "    <tr>\n",
       "      <th>6930</th>\n",
       "      <td>181.240</td>\n",
       "    </tr>\n",
       "    <tr>\n",
       "      <th>6931</th>\n",
       "      <td>7.580</td>\n",
       "    </tr>\n",
       "    <tr>\n",
       "      <th>6932</th>\n",
       "      <td>346.185</td>\n",
       "    </tr>\n",
       "    <tr>\n",
       "      <th>6933</th>\n",
       "      <td>46.590</td>\n",
       "    </tr>\n",
       "    <tr>\n",
       "      <th>6934</th>\n",
       "      <td>101.195</td>\n",
       "    </tr>\n",
       "    <tr>\n",
       "      <th>6935</th>\n",
       "      <td>209.685</td>\n",
       "    </tr>\n",
       "    <tr>\n",
       "      <th>6936</th>\n",
       "      <td>24.700</td>\n",
       "    </tr>\n",
       "    <tr>\n",
       "      <th>6937</th>\n",
       "      <td>145.355</td>\n",
       "    </tr>\n",
       "    <tr>\n",
       "      <th>6938</th>\n",
       "      <td>150.725</td>\n",
       "    </tr>\n",
       "    <tr>\n",
       "      <th>6939</th>\n",
       "      <td>151.025</td>\n",
       "    </tr>\n",
       "    <tr>\n",
       "      <th>6940</th>\n",
       "      <td>375.715</td>\n",
       "    </tr>\n",
       "    <tr>\n",
       "      <th>6941</th>\n",
       "      <td>253.405</td>\n",
       "    </tr>\n",
       "    <tr>\n",
       "      <th>6942</th>\n",
       "      <td>172.295</td>\n",
       "    </tr>\n",
       "    <tr>\n",
       "      <th>6943</th>\n",
       "      <td>73.490</td>\n",
       "    </tr>\n",
       "    <tr>\n",
       "      <th>6944</th>\n",
       "      <td>156.605</td>\n",
       "    </tr>\n",
       "    <tr>\n",
       "      <th>6945</th>\n",
       "      <td>672.545</td>\n",
       "    </tr>\n",
       "    <tr>\n",
       "      <th>6946</th>\n",
       "      <td>294.260</td>\n",
       "    </tr>\n",
       "    <tr>\n",
       "      <th>6947</th>\n",
       "      <td>161.225</td>\n",
       "    </tr>\n",
       "    <tr>\n",
       "      <th>6948</th>\n",
       "      <td>538.565</td>\n",
       "    </tr>\n",
       "    <tr>\n",
       "      <th>6949</th>\n",
       "      <td>67.955</td>\n",
       "    </tr>\n",
       "    <tr>\n",
       "      <th>6950</th>\n",
       "      <td>241.425</td>\n",
       "    </tr>\n",
       "    <tr>\n",
       "      <th>6951</th>\n",
       "      <td>25.450</td>\n",
       "    </tr>\n",
       "  </tbody>\n",
       "</table>\n",
       "<p>6952 rows × 1 columns</p>\n",
       "</div>"
      ],
      "text/plain": [
       "       target\n",
       "0     425.055\n",
       "1     103.785\n",
       "2       9.585\n",
       "3     526.940\n",
       "4      12.865\n",
       "5      31.470\n",
       "6     755.235\n",
       "7     143.885\n",
       "8       8.890\n",
       "9      25.470\n",
       "10     24.565\n",
       "11    127.715\n",
       "12    556.350\n",
       "13      7.175\n",
       "14    326.490\n",
       "15    126.785\n",
       "16    145.315\n",
       "17    315.560\n",
       "18     34.480\n",
       "19    760.780\n",
       "20      9.785\n",
       "21    144.075\n",
       "22    118.865\n",
       "23    126.235\n",
       "24    128.700\n",
       "25    127.855\n",
       "26     13.130\n",
       "27    168.770\n",
       "28      6.485\n",
       "29     81.465\n",
       "...       ...\n",
       "6922  102.145\n",
       "6923  223.565\n",
       "6924   18.220\n",
       "6925   13.070\n",
       "6926  122.805\n",
       "6927  352.725\n",
       "6928  384.400\n",
       "6929  256.645\n",
       "6930  181.240\n",
       "6931    7.580\n",
       "6932  346.185\n",
       "6933   46.590\n",
       "6934  101.195\n",
       "6935  209.685\n",
       "6936   24.700\n",
       "6937  145.355\n",
       "6938  150.725\n",
       "6939  151.025\n",
       "6940  375.715\n",
       "6941  253.405\n",
       "6942  172.295\n",
       "6943   73.490\n",
       "6944  156.605\n",
       "6945  672.545\n",
       "6946  294.260\n",
       "6947  161.225\n",
       "6948  538.565\n",
       "6949   67.955\n",
       "6950  241.425\n",
       "6951   25.450\n",
       "\n",
       "[6952 rows x 1 columns]"
      ]
     },
     "execution_count": 78,
     "metadata": {},
     "output_type": "execute_result"
    }
   ],
   "source": [
    "target_export = pd.DataFrame(target, columns = ['target'])\n",
    "target_export"
   ]
  },
  {
   "cell_type": "code",
   "execution_count": 79,
   "metadata": {},
   "outputs": [],
   "source": [
    "target_export.to_csv('target.csv',sep=',')"
   ]
  },
  {
   "cell_type": "code",
   "execution_count": null,
   "metadata": {},
   "outputs": [],
   "source": []
  }
 ],
 "metadata": {
  "kernelspec": {
   "display_name": "Python 3",
   "language": "python",
   "name": "python3"
  },
  "language_info": {
   "codemirror_mode": {
    "name": "ipython",
    "version": 3
   },
   "file_extension": ".py",
   "mimetype": "text/x-python",
   "name": "python",
   "nbconvert_exporter": "python",
   "pygments_lexer": "ipython3",
   "version": "3.7.0"
  }
 },
 "nbformat": 4,
 "nbformat_minor": 2
}
